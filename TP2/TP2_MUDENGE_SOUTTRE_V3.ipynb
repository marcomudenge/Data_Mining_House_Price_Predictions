{
 "cells": [
  {
   "cell_type": "markdown",
   "metadata": {
    "id": "4mh2MiuVMazk"
   },
   "source": [
    "# TP2 - Market Basket Analysis \n",
    "INF8111 - Fouille de données, Été 2023\n",
    "### Membres de l'équipe\n",
    "    - Marco Mudenge (2137307)\n",
    "    - Matthieu Souttre (2239547)\n"
   ]
  },
  {
   "cell_type": "markdown",
   "metadata": {
    "id": "VmJEz5JEMazl"
   },
   "source": [
    "## Date et directives de remise\n",
    "Vous remettrez ce fichier nommé TP2\\_NomDuMembre1\\_NomDuMembre2\\_NomDuMembre3.ipynb dans la boîte de remise sur moodle. \n",
    "\n",
    "**Date limite: Juin 04, 23:55**.\n",
    "\n",
    "\n",
    "## Market Basket Analysis\n",
    "\n",
    "Le *Market Basket Analysis* (MBA) est une technique d'analyse de la fouille de données qui permet de découvrir les associations entre les produits ou leur regroupement. En explorant des motifs intéressants à partir d'une vaste collection de données, le MBA vise à comprendre / révéler les comportements d'achat des clients en se basant sur la théorie selon laquelle si vous avez acheté un certain ensemble de produits, vous êtes plus (ou moins) susceptible d'acheter un autre groupe de produits. En d'autres termes, le MBA permet aux détaillants d'identifier la relation entre les articles que les clients achètent, révélant des tendances d'articles souvent achetés ensemble.\n",
    "\n",
    "Une approche largement utilisée pour explorer ces motifs consiste à construire *** des règles d'association *** telles que\n",
    "- **si** acheté *ITEM_1* **alors** achètera *ITEM_2* avec **confiance** *X*.\n",
    "\n",
    "Ces associations n'ont pas à être des règles individuelles. Ils peuvent impliquer de nombreux éléments. Par exemple, une personne dans un supermarché peut ajouter des œufs dans son panier, puis le MBA peut suggérer qu'elle achètera également du pain et/ou de la farine:\n",
    "\n",
    "+ **si**  acheté *OEUFS* **alors** achètera [*PAIN* avec confiance *0,2*; *FARINE* avec confiance 0,05].\n",
    "\n",
    "Cependant, si la personne décide maintenant d'ajouter de la farine à son panier, la nouvelle règle d'association pourrait être comme ci-dessous, suggérant des ingrédients pour faire un gâteau.\n",
    "\n",
    "+ **si** acheté [*OEUFS, FARINE*] **alors** achètera [*SUCRE* avec confiance 0,45; LEVURE avec confiance 0,12; *PAIN* avec confiance *0,03*].\n",
    "\n",
    "Il existe de nombreux scénarios réels où le MBA joue un rôle central dans l'analyse des données, comme les transactions de supermarché, les commandes en ligne ou l'historique des cartes de crédit. Les spécialistes du marketing peuvent utiliser ces règles d'association pour organiser les produits corrélés plus près les uns des autres sur les étagères des magasins ou faire des suggestions en ligne afin que les clients achètent plus d'articles. Un MBA peut généralement aider les détaillants à répondre aux questions les suivantes:\n",
    "\n",
    "- Quels articles sont souvent achetés ensemble ?\n",
    "- Étant donné un panier, quels articles suggérer ?\n",
    "- Comment placer les articles ensemble sur les étagères ?\n",
    "\n",
    "### Objectif\n",
    "\n",
    "Votre objectif dans ce TP est de développer un algorithme MBA pour révéler les motifs en créant des règles d'association dans un ensemble de données volumineux avec plus de trois millions de transactions de supermarché. Cependant, la collecte de règles d'association dans les grands ensembles de données est un problème très intensif en calcul, ce qui rend presque impossible leur exécution sans système distribué. Par conséquent, pour exécuter votre algorithme, vous aurez accès à un cluster de *cloud computing* distribué avec des centaines de cœurs.\n",
    "\n",
    "À cette fin, un algorithme **MapReduce** sera implémenté avec le framework [Apache Spark](http://spark.apache.org), un système informatique distribué rapide. En résumé, Spark est un framework open source conçu avec une méthodologie *scale-out* qui en fait un outil très puissant pour les programmeurs ou les développeurs d'applications pour effectuer un volume massif de calculs et de traitement de données dans des environnements distribués. Spark fournit des API de haut niveau qui facilitent la création d'applications parallèles sans avoir à se soucier de la façon dont votre code et vos données sont parallélisés / distribués par le cluster informatique. Spark fait tout pour vous.\n",
    "\n",
    "La mise en œuvre suivra l'algorithme d'analyse du panier de marché présenté par Jongwook Woo et Yuhang Xu (2012). L'image **workflow.pdf** illustre le flux de travail de l'algorithme et doit être utilisée pour consultation tout au long de ce TP. Les cases bleues sont celles où vous devez implémenter une méthode pour effectuer une fonction de mappage ou de réduction, et les cases grises représentent leur sortie attendue. **Toutes ces opérations sont expliquées en détail dans les sections suivantes.**\n",
    "\n",
    "## 1. Configuration de Spark\n",
    "\n",
    "Spark fonctionne sur les systèmes Windows et UNIX (par exemple, Linux, Mac OS). Il est facile d'exécuter Spark localement sur une seule machine - tout ce dont vous avez besoin est d'avoir Java installé sur votre système PATH, ou la variable d'environnement JAVA_HOME pointant vers une installation Java. Il est obligatoire que le **JDK v8** soit installé sur votre système, car Spark ne prend actuellement en charge que cette version. Si ce n'est pas le cas, accédez à [la page Web de Java](https://www.oracle.com/technetwork/java/javase/downloads/jdk8-downloads-2133151.html) pour télécharger et installer une machine virtuelle Java. N'oubliez pas de définir la variable d'environnement JAVA_HOME pour utiliser JDK v8 si votre installation ne le fait pas automatiquement.\n",
    "\n",
    "L'interface entre Python et Spark se fait via **PySpark**, qui peut être installé en exécutant `pip install pyspark` ou configuré en suivant la séquence ci-dessous:\n",
    "\n",
    "1. D'abord, allez sur http://spark.apache.org/downloads\n",
    "2. Sélectionnez la dernière version de Spark et le package pré-construit pour Apache Hadoop 2.7\n",
    "3. Cliquez pour télécharger **spark-2.4.5-bin-hadoop2.7.tgz** et décompressez-le dans le dossier de votre choix.\n",
    "4. Ensuite, exportez les variables suivantes pour lier PYSPARK (l'interface python de Spark) à votre distribution python dans votre fichier `~/.bash_profile`.\n",
    "\n",
    "``\n",
    "export SPARK_HOME=/chemin/ vers / spark-2.4.5-bin-hadoop2.7\n",
    "export PYTHONPATH=\"$SPARK_HOME/python:$SPARK_HOME/python/lib/py4j-0.10.7-src.zip:$SPARK_HOME/python/lib/pyspark.zip:$ PYTHONPATH\"\n",
    "export PYSPARK_PYTHON=/chemin/vers/votre/python3\n",
    "``\n",
    "\n",
    "5. Exécutez `source ~./bash_profile` pour effectuer les modifications et redémarrer cette session de notebook jupyter.\n",
    "\n",
    "#### Alternative pour utiliser Google Colab\n",
    "\n",
    "Si vous prévoyez d'utiliser la plateforme Google Colab, exécutez la cellule de code suivante pour configurer Spark:"
   ]
  },
  {
   "cell_type": "code",
   "execution_count": 1,
   "metadata": {
    "id": "JmUMt4htMazm",
    "tags": []
   },
   "outputs": [
    {
     "name": "stdout",
     "output_type": "stream",
     "text": [
      "Requirement already satisfied: pyspark in /usr/lib/spark/python (3.1.3)\n",
      "Requirement already satisfied: py4j==0.10.9 in /opt/conda/miniconda3/lib/python3.8/site-packages (from pyspark) (0.10.9)\n",
      "\u001B[33mWARNING: Running pip as the 'root' user can result in broken permissions and conflicting behaviour with the system package manager. It is recommended to use a virtual environment instead: https://pip.pypa.io/warnings/venv\u001B[0m\u001B[33m\n",
      "\u001B[0mRequirement already satisfied: plotly in /opt/conda/miniconda3/lib/python3.8/site-packages (5.14.1)\n",
      "Requirement already satisfied: tenacity>=6.2.0 in /opt/conda/miniconda3/lib/python3.8/site-packages (from plotly) (8.2.2)\n",
      "Requirement already satisfied: packaging in /opt/conda/miniconda3/lib/python3.8/site-packages (from plotly) (23.1)\n",
      "\u001B[33mWARNING: Running pip as the 'root' user can result in broken permissions and conflicting behaviour with the system package manager. It is recommended to use a virtual environment instead: https://pip.pypa.io/warnings/venv\u001B[0m\u001B[33m\n",
      "\u001B[0mRequirement already satisfied: plotly in /opt/conda/miniconda3/lib/python3.8/site-packages (5.14.1)\n",
      "Requirement already satisfied: jupyterlab in /opt/conda/miniconda3/lib/python3.8/site-packages (3.0.18)\n",
      "Requirement already satisfied: tenacity>=6.2.0 in /opt/conda/miniconda3/lib/python3.8/site-packages (from plotly) (8.2.2)\n",
      "Requirement already satisfied: packaging in /opt/conda/miniconda3/lib/python3.8/site-packages (from plotly) (23.1)\n",
      "Requirement already satisfied: ipython in /opt/conda/miniconda3/lib/python3.8/site-packages (from jupyterlab) (8.12.2)\n",
      "Requirement already satisfied: tornado>=6.1.0 in /opt/conda/miniconda3/lib/python3.8/site-packages (from jupyterlab) (6.1)\n",
      "Requirement already satisfied: jupyter-core in /opt/conda/miniconda3/lib/python3.8/site-packages (from jupyterlab) (5.3.0)\n",
      "Requirement already satisfied: jupyterlab-server~=2.3 in /opt/conda/miniconda3/lib/python3.8/site-packages (from jupyterlab) (2.16.6)\n",
      "Requirement already satisfied: jupyter-server~=1.4 in /opt/conda/miniconda3/lib/python3.8/site-packages (from jupyterlab) (1.24.0)\n",
      "Requirement already satisfied: nbclassic~=0.2 in /opt/conda/miniconda3/lib/python3.8/site-packages (from jupyterlab) (0.5.6)\n",
      "Requirement already satisfied: jinja2>=2.1 in /opt/conda/miniconda3/lib/python3.8/site-packages (from jupyterlab) (3.0.3)\n",
      "Requirement already satisfied: MarkupSafe>=2.0 in /opt/conda/miniconda3/lib/python3.8/site-packages (from jinja2>=2.1->jupyterlab) (2.1.2)\n",
      "Requirement already satisfied: anyio<4,>=3.1.0 in /opt/conda/miniconda3/lib/python3.8/site-packages (from jupyter-server~=1.4->jupyterlab) (3.6.2)\n",
      "Requirement already satisfied: argon2-cffi in /opt/conda/miniconda3/lib/python3.8/site-packages (from jupyter-server~=1.4->jupyterlab) (21.3.0)\n",
      "Requirement already satisfied: jupyter-client>=6.1.12 in /opt/conda/miniconda3/lib/python3.8/site-packages (from jupyter-server~=1.4->jupyterlab) (7.2.2)\n",
      "Requirement already satisfied: nbconvert>=6.4.4 in /opt/conda/miniconda3/lib/python3.8/site-packages (from jupyter-server~=1.4->jupyterlab) (7.4.0)\n",
      "Requirement already satisfied: nbformat>=5.2.0 in /opt/conda/miniconda3/lib/python3.8/site-packages (from jupyter-server~=1.4->jupyterlab) (5.8.0)\n",
      "Requirement already satisfied: prometheus-client in /opt/conda/miniconda3/lib/python3.8/site-packages (from jupyter-server~=1.4->jupyterlab) (0.16.0)\n",
      "Requirement already satisfied: pyzmq>=17 in /opt/conda/miniconda3/lib/python3.8/site-packages (from jupyter-server~=1.4->jupyterlab) (25.0.2)\n",
      "Requirement already satisfied: Send2Trash in /opt/conda/miniconda3/lib/python3.8/site-packages (from jupyter-server~=1.4->jupyterlab) (1.8.2)\n",
      "Requirement already satisfied: terminado>=0.8.3 in /opt/conda/miniconda3/lib/python3.8/site-packages (from jupyter-server~=1.4->jupyterlab) (0.17.1)\n",
      "Requirement already satisfied: traitlets>=5.1 in /opt/conda/miniconda3/lib/python3.8/site-packages (from jupyter-server~=1.4->jupyterlab) (5.9.0)\n",
      "Requirement already satisfied: websocket-client in /opt/conda/miniconda3/lib/python3.8/site-packages (from jupyter-server~=1.4->jupyterlab) (1.5.2)\n",
      "Requirement already satisfied: platformdirs>=2.5 in /opt/conda/miniconda3/lib/python3.8/site-packages (from jupyter-core->jupyterlab) (3.5.1)\n",
      "Requirement already satisfied: babel>=2.10 in /opt/conda/miniconda3/lib/python3.8/site-packages (from jupyterlab-server~=2.3->jupyterlab) (2.12.1)\n",
      "Requirement already satisfied: importlib-metadata>=4.8.3 in /opt/conda/miniconda3/lib/python3.8/site-packages (from jupyterlab-server~=2.3->jupyterlab) (6.6.0)\n",
      "Requirement already satisfied: json5>=0.9.0 in /opt/conda/miniconda3/lib/python3.8/site-packages (from jupyterlab-server~=2.3->jupyterlab) (0.9.5)\n",
      "Requirement already satisfied: jsonschema>=3.0.1 in /opt/conda/miniconda3/lib/python3.8/site-packages (from jupyterlab-server~=2.3->jupyterlab) (4.17.3)\n",
      "Requirement already satisfied: requests>=2.28 in /opt/conda/miniconda3/lib/python3.8/site-packages (from jupyterlab-server~=2.3->jupyterlab) (2.31.0)\n",
      "Requirement already satisfied: ipython-genutils in /opt/conda/miniconda3/lib/python3.8/site-packages (from nbclassic~=0.2->jupyterlab) (0.2.0)\n",
      "Requirement already satisfied: notebook-shim>=0.2.3 in /opt/conda/miniconda3/lib/python3.8/site-packages (from nbclassic~=0.2->jupyterlab) (0.2.3)\n",
      "Requirement already satisfied: nest-asyncio>=1.5 in /opt/conda/miniconda3/lib/python3.8/site-packages (from nbclassic~=0.2->jupyterlab) (1.5.6)\n",
      "Requirement already satisfied: ipykernel in /opt/conda/miniconda3/lib/python3.8/site-packages (from nbclassic~=0.2->jupyterlab) (6.14.0)\n",
      "Requirement already satisfied: backcall in /opt/conda/miniconda3/lib/python3.8/site-packages (from ipython->jupyterlab) (0.2.0)\n",
      "Requirement already satisfied: decorator in /opt/conda/miniconda3/lib/python3.8/site-packages (from ipython->jupyterlab) (5.1.1)\n",
      "Requirement already satisfied: jedi>=0.16 in /opt/conda/miniconda3/lib/python3.8/site-packages (from ipython->jupyterlab) (0.17.2)\n",
      "Requirement already satisfied: matplotlib-inline in /opt/conda/miniconda3/lib/python3.8/site-packages (from ipython->jupyterlab) (0.1.6)\n",
      "Requirement already satisfied: pickleshare in /opt/conda/miniconda3/lib/python3.8/site-packages (from ipython->jupyterlab) (0.7.5)\n",
      "Requirement already satisfied: prompt-toolkit!=3.0.37,<3.1.0,>=3.0.30 in /opt/conda/miniconda3/lib/python3.8/site-packages (from ipython->jupyterlab) (3.0.38)\n",
      "Requirement already satisfied: pygments>=2.4.0 in /opt/conda/miniconda3/lib/python3.8/site-packages (from ipython->jupyterlab) (2.15.1)\n",
      "Requirement already satisfied: stack-data in /opt/conda/miniconda3/lib/python3.8/site-packages (from ipython->jupyterlab) (0.6.2)\n",
      "Requirement already satisfied: typing-extensions in /opt/conda/miniconda3/lib/python3.8/site-packages (from ipython->jupyterlab) (4.6.1)\n",
      "Requirement already satisfied: pexpect>4.3 in /opt/conda/miniconda3/lib/python3.8/site-packages (from ipython->jupyterlab) (4.8.0)\n",
      "Requirement already satisfied: idna>=2.8 in /opt/conda/miniconda3/lib/python3.8/site-packages (from anyio<4,>=3.1.0->jupyter-server~=1.4->jupyterlab) (2.10)\n",
      "Requirement already satisfied: sniffio>=1.1 in /opt/conda/miniconda3/lib/python3.8/site-packages (from anyio<4,>=3.1.0->jupyter-server~=1.4->jupyterlab) (1.3.0)\n",
      "Requirement already satisfied: pytz>=2015.7 in /opt/conda/miniconda3/lib/python3.8/site-packages (from babel>=2.10->jupyterlab-server~=2.3->jupyterlab) (2023.3)\n",
      "Requirement already satisfied: zipp>=0.5 in /opt/conda/miniconda3/lib/python3.8/site-packages (from importlib-metadata>=4.8.3->jupyterlab-server~=2.3->jupyterlab) (3.15.0)\n",
      "Requirement already satisfied: parso<0.8.0,>=0.7.0 in /opt/conda/miniconda3/lib/python3.8/site-packages (from jedi>=0.16->ipython->jupyterlab) (0.7.0)\n",
      "Requirement already satisfied: attrs>=17.4.0 in /opt/conda/miniconda3/lib/python3.8/site-packages (from jsonschema>=3.0.1->jupyterlab-server~=2.3->jupyterlab) (23.1.0)\n",
      "Requirement already satisfied: importlib-resources>=1.4.0 in /opt/conda/miniconda3/lib/python3.8/site-packages (from jsonschema>=3.0.1->jupyterlab-server~=2.3->jupyterlab) (5.12.0)\n",
      "Requirement already satisfied: pkgutil-resolve-name>=1.3.10 in /opt/conda/miniconda3/lib/python3.8/site-packages (from jsonschema>=3.0.1->jupyterlab-server~=2.3->jupyterlab) (1.3.10)\n",
      "Requirement already satisfied: pyrsistent!=0.17.0,!=0.17.1,!=0.17.2,>=0.14.0 in /opt/conda/miniconda3/lib/python3.8/site-packages (from jsonschema>=3.0.1->jupyterlab-server~=2.3->jupyterlab) (0.19.3)\n",
      "Requirement already satisfied: entrypoints in /opt/conda/miniconda3/lib/python3.8/site-packages (from jupyter-client>=6.1.12->jupyter-server~=1.4->jupyterlab) (0.4)\n",
      "Requirement already satisfied: python-dateutil>=2.8.2 in /opt/conda/miniconda3/lib/python3.8/site-packages (from jupyter-client>=6.1.12->jupyter-server~=1.4->jupyterlab) (2.8.2)\n",
      "Requirement already satisfied: beautifulsoup4 in /opt/conda/miniconda3/lib/python3.8/site-packages (from nbconvert>=6.4.4->jupyter-server~=1.4->jupyterlab) (4.12.2)\n",
      "Requirement already satisfied: bleach in /opt/conda/miniconda3/lib/python3.8/site-packages (from nbconvert>=6.4.4->jupyter-server~=1.4->jupyterlab) (6.0.0)\n",
      "Requirement already satisfied: defusedxml in /opt/conda/miniconda3/lib/python3.8/site-packages (from nbconvert>=6.4.4->jupyter-server~=1.4->jupyterlab) (0.7.1)\n",
      "Requirement already satisfied: jupyterlab-pygments in /opt/conda/miniconda3/lib/python3.8/site-packages (from nbconvert>=6.4.4->jupyter-server~=1.4->jupyterlab) (0.2.2)\n",
      "Requirement already satisfied: mistune<3,>=2.0.3 in /opt/conda/miniconda3/lib/python3.8/site-packages (from nbconvert>=6.4.4->jupyter-server~=1.4->jupyterlab) (2.0.5)\n",
      "Requirement already satisfied: nbclient>=0.5.0 in /opt/conda/miniconda3/lib/python3.8/site-packages (from nbconvert>=6.4.4->jupyter-server~=1.4->jupyterlab) (0.5.13)\n",
      "Requirement already satisfied: pandocfilters>=1.4.1 in /opt/conda/miniconda3/lib/python3.8/site-packages (from nbconvert>=6.4.4->jupyter-server~=1.4->jupyterlab) (1.5.0)\n",
      "Requirement already satisfied: tinycss2 in /opt/conda/miniconda3/lib/python3.8/site-packages (from nbconvert>=6.4.4->jupyter-server~=1.4->jupyterlab) (1.2.1)\n",
      "Requirement already satisfied: fastjsonschema in /opt/conda/miniconda3/lib/python3.8/site-packages (from nbformat>=5.2.0->jupyter-server~=1.4->jupyterlab) (2.17.1)\n",
      "Requirement already satisfied: ptyprocess>=0.5 in /opt/conda/miniconda3/lib/python3.8/site-packages (from pexpect>4.3->ipython->jupyterlab) (0.7.0)\n",
      "Requirement already satisfied: wcwidth in /opt/conda/miniconda3/lib/python3.8/site-packages (from prompt-toolkit!=3.0.37,<3.1.0,>=3.0.30->ipython->jupyterlab) (0.2.6)\n",
      "Requirement already satisfied: charset-normalizer<4,>=2 in /opt/conda/miniconda3/lib/python3.8/site-packages (from requests>=2.28->jupyterlab-server~=2.3->jupyterlab) (3.1.0)\n",
      "Requirement already satisfied: urllib3<3,>=1.21.1 in /opt/conda/miniconda3/lib/python3.8/site-packages (from requests>=2.28->jupyterlab-server~=2.3->jupyterlab) (1.25.11)\n",
      "Requirement already satisfied: certifi>=2017.4.17 in /opt/conda/miniconda3/lib/python3.8/site-packages (from requests>=2.28->jupyterlab-server~=2.3->jupyterlab) (2023.5.7)\n",
      "Requirement already satisfied: argon2-cffi-bindings in /opt/conda/miniconda3/lib/python3.8/site-packages (from argon2-cffi->jupyter-server~=1.4->jupyterlab) (21.2.0)\n",
      "Requirement already satisfied: debugpy>=1.0 in /opt/conda/miniconda3/lib/python3.8/site-packages (from ipykernel->nbclassic~=0.2->jupyterlab) (1.6.7)\n",
      "Requirement already satisfied: psutil in /opt/conda/miniconda3/lib/python3.8/site-packages (from ipykernel->nbclassic~=0.2->jupyterlab) (5.9.5)\n",
      "Requirement already satisfied: executing>=1.2.0 in /opt/conda/miniconda3/lib/python3.8/site-packages (from stack-data->ipython->jupyterlab) (1.2.0)\n",
      "Requirement already satisfied: asttokens>=2.1.0 in /opt/conda/miniconda3/lib/python3.8/site-packages (from stack-data->ipython->jupyterlab) (2.2.1)\n",
      "Requirement already satisfied: pure-eval in /opt/conda/miniconda3/lib/python3.8/site-packages (from stack-data->ipython->jupyterlab) (0.2.2)\n",
      "Requirement already satisfied: six in /opt/conda/miniconda3/lib/python3.8/site-packages (from asttokens>=2.1.0->stack-data->ipython->jupyterlab) (1.16.0)\n",
      "Requirement already satisfied: cffi>=1.0.1 in /opt/conda/miniconda3/lib/python3.8/site-packages (from argon2-cffi-bindings->argon2-cffi->jupyter-server~=1.4->jupyterlab) (1.15.1)\n",
      "Requirement already satisfied: soupsieve>1.2 in /opt/conda/miniconda3/lib/python3.8/site-packages (from beautifulsoup4->nbconvert>=6.4.4->jupyter-server~=1.4->jupyterlab) (2.3.2.post1)\n",
      "Requirement already satisfied: webencodings in /opt/conda/miniconda3/lib/python3.8/site-packages (from bleach->nbconvert>=6.4.4->jupyter-server~=1.4->jupyterlab) (0.5.1)\n",
      "Requirement already satisfied: pycparser in /opt/conda/miniconda3/lib/python3.8/site-packages (from cffi>=1.0.1->argon2-cffi-bindings->argon2-cffi->jupyter-server~=1.4->jupyterlab) (2.21)\n",
      "\u001B[33mWARNING: Running pip as the 'root' user can result in broken permissions and conflicting behaviour with the system package manager. It is recommended to use a virtual environment instead: https://pip.pypa.io/warnings/venv\u001B[0m\u001B[33m\n",
      "\u001B[0mRequirement already satisfied: panda in /opt/conda/miniconda3/lib/python3.8/site-packages (0.3.1)\n",
      "Requirement already satisfied: setuptools in /opt/conda/miniconda3/lib/python3.8/site-packages (from panda) (59.8.0)\n",
      "Requirement already satisfied: requests in /opt/conda/miniconda3/lib/python3.8/site-packages (from panda) (2.31.0)\n",
      "Requirement already satisfied: charset-normalizer<4,>=2 in /opt/conda/miniconda3/lib/python3.8/site-packages (from requests->panda) (3.1.0)\n",
      "Requirement already satisfied: idna<4,>=2.5 in /opt/conda/miniconda3/lib/python3.8/site-packages (from requests->panda) (2.10)\n",
      "Requirement already satisfied: urllib3<3,>=1.21.1 in /opt/conda/miniconda3/lib/python3.8/site-packages (from requests->panda) (1.25.11)\n",
      "Requirement already satisfied: certifi>=2017.4.17 in /opt/conda/miniconda3/lib/python3.8/site-packages (from requests->panda) (2023.5.7)\n",
      "\u001B[33mWARNING: Running pip as the 'root' user can result in broken permissions and conflicting behaviour with the system package manager. It is recommended to use a virtual environment instead: https://pip.pypa.io/warnings/venv\u001B[0m\u001B[33m\n",
      "\u001B[0m"
     ]
    }
   ],
   "source": [
    "import os\n",
    "!apt-get install openjdk-11-jdk-headless -qq > /dev/null\n",
    "os.environ[\"JAVA_HOME\"] = \"/usr/lib/jvm/java-11-openjdk-amd64\"\n",
    "!pip install pyspark\n",
    "!pip install plotly\n",
    "!pip install plotly jupyterlab\n",
    "!pip install panda"
   ]
  },
  {
   "cell_type": "markdown",
   "metadata": {
    "id": "rovSCW_vYs7m"
   },
   "source": [
    "#### Testez votre Spark\n",
    "À l'aide du code suivant, vous pouvez tester si Spark est installé correctement."
   ]
  },
  {
   "cell_type": "code",
   "execution_count": 2,
   "metadata": {
    "id": "UxgNiBFkYs7n"
   },
   "outputs": [
    {
     "name": "stderr",
     "output_type": "stream",
     "text": [
      "[Stage 0:>                                                          (0 + 1) / 1]\r"
     ]
    },
    {
     "name": "stdout",
     "output_type": "stream",
     "text": [
      "+-----+\n",
      "|hello|\n",
      "+-----+\n",
      "|spark|\n",
      "+-----+\n",
      "\n"
     ]
    },
    {
     "name": "stderr",
     "output_type": "stream",
     "text": [
      "                                                                                \r"
     ]
    }
   ],
   "source": [
    "import pyspark\n",
    "from pyspark.sql import SparkSession\n",
    "spark = SparkSession.builder.getOrCreate()\n",
    "df = spark.sql(\"select 'spark' as hello \")\n",
    "df.show()"
   ]
  },
  {
   "cell_type": "markdown",
   "metadata": {
    "id": "QaYpUpOFMazu"
   },
   "source": [
    "### 1.1 Exemple de comptage de produits \n",
    "\n",
    "Pour tester votre installation et commencer à vous familiariser avec Spark, nous suivrons un exemple qui compte combien de fois les produits d'un toy dataset ont été achetés.\n",
    "\n",
    "Le principal point d'entrée pour commencer la programmation avec Spark est [l'API RDD](https://spark.apache.org/docs/latest/rdd-programming-guide.html), une excellente abstraction Spark pour travailler avec MapReduce. RDD est une collection d'éléments partitionnés sur les nœuds du cluster qui peuvent fonctionner en parallèle. En d'autres termes, RDD est la façon dont Spark maintient vos données prêtes à exécuter une fonction (par exemple, une fonction Map ou une fonction reduce) en parallèle. **Ne vous inquiétez pas si cela semble toujours déroutant, il sera clair une fois que vous commencerez à l'implémenter**. Cependant, cela fait partie de ce TP d'étudier / consulter [Spark python API](https://spark.apache.org/docs/latest/api/python/) et d'apprendre à l'utiliser. Certaines fonctions utiles offertes par l'API RDD sont:\n",
    "\n",
    "1. **map**: return a new RDD by applying a function to each element of this RDD.\n",
    "2. **flatMap**: return a new RDD by first applying a function to all elements of this RDD, and then flattening the results. **Should be used when each entry will yield more than one mapped element**\n",
    "3. **reduce**: reduces the elements of this RDD using the specified commutative and associative binary operator.\n",
    "4. **reduceByKey**: merge the values for each key using an associative and commutative reduce function\n",
    "5. **groupByKey**: group the values for each key in the RDD into a single sequence\n",
    "6. **collect**: return a list that contains all of the elements in this RDD. **Should not be used when working with a lot of data**\n",
    "7. **sample**: return a sampled subset of this RDD\n",
    "8. **count**: return the number of elements in this RDD.\n",
    "9. **filter**: return a new RDD containing only the elements that satisfy a predicate."
   ]
  },
  {
   "cell_type": "code",
   "execution_count": 3,
   "metadata": {
    "id": "NZDz1nrBMazu"
   },
   "outputs": [
    {
     "name": "stderr",
     "output_type": "stream",
     "text": [
      "                                                                                \r"
     ]
    },
    {
     "name": "stdout",
     "output_type": "stream",
     "text": [
      "Toy dataset\n"
     ]
    },
    {
     "name": "stderr",
     "output_type": "stream",
     "text": [
      "                                                                                \r"
     ]
    },
    {
     "name": "stdout",
     "output_type": "stream",
     "text": [
      "+--------+-----------+\n",
      "|order_id|transaction|\n",
      "+--------+-----------+\n",
      "|       1|    a;b;c;f|\n",
      "|       2|    d;b;a;e|\n",
      "|       3|        c;b|\n",
      "|       4|        b;c|\n",
      "+--------+-----------+\n",
      "\n",
      "Toy dataframe as a RDD object (list of Row objects):\n",
      "\t [Row(order_id='1', transaction='a;b;c;f'), Row(order_id='2', transaction='d;b;a;e'), Row(order_id='3', transaction='c;b'), Row(order_id='4', transaction='b;c')]\n"
     ]
    },
    {
     "name": "stderr",
     "output_type": "stream",
     "text": [
      "                                                                                \r"
     ]
    },
    {
     "name": "stdout",
     "output_type": "stream",
     "text": [
      "\n",
      "Mapped products:\n",
      "\t [('a', 1), ('b', 1), ('c', 1), ('f', 1), ('d', 1), ('b', 1), ('a', 1), ('e', 1), ('c', 1), ('b', 1), ('b', 1), ('c', 1)]\n",
      "\n",
      "Reduced (merged) products:\n",
      "\t [('a', 2), ('b', 4), ('c', 3), ('f', 1), ('d', 1), ('e', 1)]\n",
      "\n",
      "Visualizing as a dataframe:\n",
      "+-------+-------------+\n",
      "|product|count_product|\n",
      "+-------+-------------+\n",
      "|      a|            2|\n",
      "|      b|            4|\n",
      "|      c|            3|\n",
      "|      f|            1|\n",
      "|      d|            1|\n",
      "|      e|            1|\n",
      "+-------+-------------+\n",
      "\n"
     ]
    }
   ],
   "source": [
    "from pyspark.sql import SparkSession\n",
    "\n",
    "bucket_path = 'gs://my_bucket_inf8111_tp2_ms/'\n",
    "jupyter_path = bucket_path+'notebooks/jupyter/'\n",
    "instacart_path = bucket_path+'instacart/'\n",
    "\n",
    "def map_to_product(row):\n",
    "    \"\"\"\n",
    "    Map each transaction into a set of KEY-VALUE elements.\n",
    "    The KEY is the word (product) itself and the VALUE is its number of apparitions.\n",
    "    \"\"\"\n",
    "    products = row.transaction.split(';') # split products from the column transaction\n",
    "    for p in products:\n",
    "        yield (p, 1)\n",
    "\n",
    "def reduce_product_by_key(value1, value2):\n",
    "    \"Reduce the mapped objects to unique words by merging (summing ) their values\"\n",
    "    return value1+value2\n",
    "\n",
    "# Initializates a object of SparkSession class, main entry point to Spark's funcionalites\n",
    "spark = SparkSession.builder.getOrCreate()\n",
    "        \n",
    "# Read a toy dataset\n",
    "toy = spark.read.csv(instacart_path+'toy.csv', header=True)\n",
    "print(\"Toy dataset\")\n",
    "toy.show()\n",
    "\n",
    "# Obtain a RDD object to call a map function\n",
    "toy_rdd = toy.rdd\n",
    "print(\"Toy dataframe as a RDD object (list of Row objects):\\n\\t\", toy_rdd.collect())\n",
    "\n",
    "# Map function to identify all products\n",
    "toy_rdd = toy_rdd.flatMap(map_to_product)\n",
    "print(\"\\nMapped products:\\n\\t\", toy_rdd.collect())\n",
    "\n",
    "# Reduce function to merge values of elements that share the same KEY\n",
    "toy_rdd = toy_rdd.reduceByKey(reduce_product_by_key)\n",
    "print(\"\\nReduced (merged) products:\\n\\t\", toy_rdd.collect())\n",
    "\n",
    "print(\"\\nVisualizing as a dataframe:\")\n",
    "toy_rdd.toDF([\"product\", \"count_product\"]).show()"
   ]
  },
  {
   "cell_type": "markdown",
   "metadata": {
    "id": "PpJGQmzXMazz"
   },
   "source": [
    "### 1.2 Travailler avec Spark Dataframe\n",
    "\n",
    "Dans l'exemple ci-dessus, nous avons brièvement utilisé une classe Dataframe de Spark, mais uniquement pour obtenir un objet RDD avec ``toy.rdd`` et pour aficher les données sous forme de tableau structuré avec le ``show ()`` une fonction. Cependant, [Dataframe](http://spark.apache.org/docs/latest/api/python/) est une partie cruciale de la version actuelle de Spark et est construit sur l'API RDD. Il s'agit d'une collection distribuée de lignes sous des colonnes nommées, identique à une table dans une base de données relationnelle. Le Dataframe de Spark fonctionne de la même manière que [Pandas](https://pandas.pydata.org/pandas-docs/stable/reference/api/pandas.DataFrame.html). En fait, nous pouvons exporter (obtenir) une Dataframe Spark vers (à partir de) ​​une Dataframe pandas avec la fonction ``toPandas()``  (``spark.createDataFrame``).\n",
    "\n",
    "Une fonctionnalité centrale du Dataframe est de bénéficier du [Spark SQL](https://spark.apache.org/docs/latest/sql-programming-guide.html#sql), un module qui permet des requêtes SQL sur des données structurées. Par exemple, le même « exemple de comptage de produits » aurait pu être implémenté comme une séquence d'opérations SQL sur les données:"
   ]
  },
  {
   "cell_type": "code",
   "execution_count": 4,
   "metadata": {
    "id": "oFL6BuIDMaz0"
   },
   "outputs": [
    {
     "name": "stdout",
     "output_type": "stream",
     "text": [
      "New column 'products': exploding the transaction's products to a new row\n",
      "+--------+-----------+--------+\n",
      "|order_id|transaction|products|\n",
      "+--------+-----------+--------+\n",
      "|       1|    a;b;c;f|       a|\n",
      "|       1|    a;b;c;f|       b|\n",
      "|       1|    a;b;c;f|       c|\n",
      "|       1|    a;b;c;f|       f|\n",
      "|       2|    d;b;a;e|       d|\n",
      "|       2|    d;b;a;e|       b|\n",
      "|       2|    d;b;a;e|       a|\n",
      "|       2|    d;b;a;e|       e|\n",
      "|       3|        c;b|       c|\n",
      "|       3|        c;b|       b|\n",
      "|       4|        b;c|       b|\n",
      "|       4|        b;c|       c|\n",
      "+--------+-----------+--------+\n",
      "\n",
      "Couting unique products:\n",
      "+--------+-------------+\n",
      "|products|count_product|\n",
      "+--------+-------------+\n",
      "|       b|            4|\n",
      "|       c|            3|\n",
      "|       a|            2|\n",
      "|       e|            1|\n",
      "|       d|            1|\n",
      "|       f|            1|\n",
      "+--------+-------------+\n",
      "\n"
     ]
    }
   ],
   "source": [
    "import pyspark.sql.functions as f\n",
    "\n",
    "# Creates a new column, products, with all products appering in each transaction\n",
    "print('New column \\'products\\': exploding the transaction\\'s products to a new row')\n",
    "df_toy = toy.withColumn('products', f.explode(f.split(toy.transaction, ';')))\n",
    "df_toy.show()\n",
    "\n",
    "# Performs a select query and group rows by the product name, aggreagating by counting\n",
    "print('Couting unique products:')\n",
    "df_toy.select(df_toy.products)\\\n",
    "      .groupBy(df_toy.products)\\\n",
    "      .agg(f.count('products').alias('count_product'))\\\n",
    "      .sort('count_product', ascending=False)\\\n",
    "      .show()"
   ]
  },
  {
   "cell_type": "markdown",
   "metadata": {
    "id": "W4HFs8CVMaz3"
   },
   "source": [
    "En outre, les mêmes opérations SQL effectuées ci-dessus auraient pu être effectuées avec une requête en langage SQL traditionnel comme indiqué ci-dessous:"
   ]
  },
  {
   "cell_type": "code",
   "execution_count": 5,
   "metadata": {
    "id": "O_eYl-7tMaz3"
   },
   "outputs": [
    {
     "name": "stdout",
     "output_type": "stream",
     "text": [
      "+--------+-------------+\n",
      "|products|product_count|\n",
      "+--------+-------------+\n",
      "|       b|            4|\n",
      "|       c|            3|\n",
      "|       a|            2|\n",
      "|       d|            1|\n",
      "|       f|            1|\n",
      "|       e|            1|\n",
      "+--------+-------------+\n",
      "\n"
     ]
    }
   ],
   "source": [
    "# Creates a relational table TOY in the Spark session\n",
    "df_toy.createOrReplaceTempView(\"TOY\")\n",
    "\n",
    "spark.sql(\"SELECT t.products, COUNT(t.products) AS product_count\"\n",
    "          \" FROM TOY t\"\n",
    "          \" GROUP BY t.products\"\n",
    "          \" ORDER BY product_count DESC\").show()"
   ]
  },
  {
   "cell_type": "markdown",
   "metadata": {
    "id": "T0Onr2NxMaz8"
   },
   "source": [
    "Ces concepts SQL sont mentionnés ici car ils nous seront utiles lors du TP, principalement dans la section 3, pour manipuler les données du supermarché, qui sont structurées en tableaux. Ainsi, si vous n'êtes pas familier avec SQL, il est recommandé de suivre un [tutoriel](https://www.w3schools.com/sql/) pour comprendre les bases.\n",
    "\n",
    "## 2. Algorithme MBA\n",
    "Les sections suivantes expliquent comment développer chaque étape de l'algorithme MapReduce pour notre application de supermarché. La figure workflow.pdf illustre chaque étape de l'algorithme.\n",
    "\n",
    "### 2.1 Map to Patterns (10 points)\n",
    "Pour un sous-ensemble de transactions (c'est-à-dire les lignes de notre toy dataset), chaque transaction doit être **mappée** vers un ensemble de *motifs d'achat* trouvés dans la transaction. Formellement, ces motifs sont des sous-ensembles de produits qui représentent un groupe d'articles achetés ensemble. \n",
    "\n",
    "Pour le framework MapReduce, chaque motif doit être créé comme un élément *KEY-VALUE*, où la KEY peut prendre la forme d'un singleton, d'une paire ou d'un trio de produits présents dans la transaction. Plus précisément, pour chaque transaction, la fonction de mappage doit générer tous les sous-ensembles **UNIQUE** possibles de taille **UN, DEUX ou TROIS**. La VALEUR associée à chaque KEY est le nombre de fois que la KEY est apparue dans la transaction (si nous supposons qu'aucun produit n'apparaît plus d'une fois dans la transaction, cette valeur est toujours égale à un).\n",
    "\n",
    "Maintenant, implémentez la fonction **map_to_patterns** qui reçoit une transaction (une ligne du dataset) et retourne les motifs trouvés dans la transaction. Les éléments mappés sont un tuple (KEY, VALUE), où KEY est également un tuple de noms de produits. Il est crucial de noter que, puisque chaque entrée (transaction) de la fonction MAP produira **plus** un élément KEY-VALUE, un *flatMap* doit être invoqué pour cette étape.\n",
    "\n",
    "Pour le toy dataset, la sortie attendue est similaire à:\n",
    "\n",
    "\n",
    "<pre style=\"align:center; border:1px solid black;font-size: 8pt; line-height: 1.1; height: auto; width: 20em; padding-left:1px\">\n",
    "<code>\n",
    "+---------------+-----------+\n",
    "|       patterns|occurrences|\n",
    "+---------------+-----------+\n",
    "|         ('a',)|          1|\n",
    "|     ('a', 'b')|          1|\n",
    "|('a', 'b', 'c')|          1|\n",
    "|('a', 'b', 'f')|          1|\n",
    "|     ('a', 'c')|          1|\n",
    "|('a', 'c', 'f')|          1|\n",
    "|     ('a', 'f')|          1|\n",
    "|         ('b',)|          1|\n",
    "|     ('b', 'c')|          1|\n",
    "|('b', 'c', 'f')|          1|\n",
    "|     ('b', 'f')|          1|\n",
    "|         ('c',)|          1|\n",
    "|     ('c', 'f')|          1|\n",
    "|         ('f',)|          1|\n",
    "|         ('a',)|          1|\n",
    "|     ('a', 'b')|          1|\n",
    "|('a', 'b', 'd')|          1|\n",
    "|('a', 'b', 'e')|          1|\n",
    "|     ('a', 'd')|          1|\n",
    "|('a', 'd', 'e')|          1|\n",
    "|     ('a', 'e')|          1|\n",
    "|         ('b',)|          1|\n",
    "|     ('b', 'd')|          1|\n",
    "|('b', 'd', 'e')|          1|\n",
    "|     ('b', 'e')|          1|\n",
    "|         ('d',)|          1|\n",
    "|     ('d', 'e')|          1|\n",
    "|         ('e',)|          1|\n",
    "|         ('b',)|          1|\n",
    "|     ('b', 'c')|          1|\n",
    "|         ('c',)|          1|\n",
    "|         ('b',)|          1|\n",
    "|     ('b', 'c')|          1|\n",
    "|         ('c',)|          1|\n",
    "+---------------+-----------+\n",
    "</code>\n",
    "</pre>"
   ]
  },
  {
   "cell_type": "code",
   "execution_count": 6,
   "metadata": {
    "id": "BscKKDAjMaz9"
   },
   "outputs": [
    {
     "name": "stdout",
     "output_type": "stream",
     "text": [
      "+---------------+-----------+\n",
      "|       patterns|occurrences|\n",
      "+---------------+-----------+\n",
      "|         ('a',)|          1|\n",
      "|     ('a', 'b')|          1|\n",
      "|('a', 'b', 'c')|          1|\n",
      "|('a', 'b', 'f')|          1|\n",
      "|     ('a', 'c')|          1|\n",
      "|('a', 'c', 'f')|          1|\n",
      "|     ('a', 'f')|          1|\n",
      "|         ('b',)|          1|\n",
      "|     ('b', 'c')|          1|\n",
      "|('b', 'c', 'f')|          1|\n",
      "|     ('b', 'f')|          1|\n",
      "|         ('c',)|          1|\n",
      "|     ('c', 'f')|          1|\n",
      "|         ('f',)|          1|\n",
      "|         ('a',)|          1|\n",
      "|     ('a', 'b')|          1|\n",
      "|('a', 'b', 'd')|          1|\n",
      "|('a', 'b', 'e')|          1|\n",
      "|     ('a', 'd')|          1|\n",
      "|('a', 'd', 'e')|          1|\n",
      "|     ('a', 'e')|          1|\n",
      "|         ('b',)|          1|\n",
      "|     ('b', 'd')|          1|\n",
      "|('b', 'd', 'e')|          1|\n",
      "|     ('b', 'e')|          1|\n",
      "|         ('d',)|          1|\n",
      "|     ('d', 'e')|          1|\n",
      "|         ('e',)|          1|\n",
      "|         ('b',)|          1|\n",
      "|     ('b', 'c')|          1|\n",
      "|         ('c',)|          1|\n",
      "|         ('b',)|          1|\n",
      "|     ('b', 'c')|          1|\n",
      "|         ('c',)|          1|\n",
      "+---------------+-----------+\n",
      "\n"
     ]
    }
   ],
   "source": [
    "from itertools import combinations\n",
    "import pandas as pd\n",
    "\n",
    "def format_tuples(pattern):\n",
    "    \"\"\"\n",
    "    Used for visualizition.\n",
    "    Transforms tuples to a string since Dataframe does not support column of tuples with different sizes\n",
    "    (a,b,c) -> '(a,b,c)'\n",
    "    \"\"\"\n",
    "    return (str(pattern[0]), str(pattern[1]))\n",
    "\n",
    "def map_to_patterns(row):\n",
    "    \"\"\"\n",
    "    Map unique combinations of products for a single line.\n",
    "    \"\"\"\n",
    "    products = sorted(row.transaction.split(';'))\n",
    "    combinations_list = []\n",
    "    for p in range(1, 4):\n",
    "        order_combinations = list(combinations(products, p))\n",
    "        combinations_list.extend(order_combinations)\n",
    "        \n",
    "    # Tri ici pour avoir le même ordre que l'exemple\n",
    "    combinations_list = sorted(combinations_list)\n",
    "    \n",
    "    for c in combinations_list:\n",
    "        yield (c, 1)\n",
    "\n",
    "toy_rdd = toy.rdd\n",
    "patterns_rdd = toy_rdd.flatMap(map_to_patterns)\n",
    "\n",
    "# Output as dataframe\n",
    "patterns_rdd.map(format_tuples).toDF(['patterns', 'occurrences']).show(50)"
   ]
  },
  {
   "cell_type": "markdown",
   "metadata": {
    "id": "YvvRw0plMa0B"
   },
   "source": [
    "### 2.2  Reduce patterns  (2,5 points)\n",
    "Une fois que différents processeurs ont traité les transactions, une fonction **reduce** doit être appelée pour combiner des KEYS identiques (le sous-ensemble de produits) et calculer le nombre total de ses occurrences dans le dataset. En d'autres termes, cette procédure de réduction doit additionner la *VALUE* de chaque KEY identique.\n",
    "\n",
    "Créez ci-dessous une fonction **reduce_patterns** qui doit additionner la VALUE de chaque motif.\n",
    "Pour le toy dataset, la sortie attendue est:\n",
    "<pre style=\"align:center; border:1px solid black;font-size: 8pt; line-height: 1.1; height: auto; width: 28em; padding-left:5px\">\n",
    "<code>\n",
    "+---------------+--------------------+\n",
    "|       patterns|combined_occurrences|\n",
    "+---------------+--------------------+\n",
    "|         ('a',)|                   2|\n",
    "|     ('a', 'b')|                   2|\n",
    "|('a', 'b', 'c')|                   1|\n",
    "|('a', 'b', 'f')|                   1|\n",
    "|     ('a', 'c')|                   1|\n",
    "|('a', 'c', 'f')|                   1|\n",
    "|     ('a', 'f')|                   1|\n",
    "|         ('b',)|                   4|\n",
    "|     ('b', 'c')|                   3|\n",
    "|('b', 'c', 'f')|                   1|\n",
    "|     ('b', 'f')|                   1|\n",
    "|         ('c',)|                   3|\n",
    "|     ('c', 'f')|                   1|\n",
    "|         ('f',)|                   1|\n",
    "|('a', 'b', 'd')|                   1|\n",
    "|('a', 'b', 'e')|                   1|\n",
    "|     ('a', 'd')|                   1|\n",
    "|('a', 'd', 'e')|                   1|\n",
    "|     ('a', 'e')|                   1|\n",
    "|     ('b', 'd')|                   1|\n",
    "|('b', 'd', 'e')|                   1|\n",
    "|     ('b', 'e')|                   1|\n",
    "|         ('d',)|                   1|\n",
    "|     ('d', 'e')|                   1|\n",
    "|         ('e',)|                   1|\n",
    "+---------------+--------------------+\n",
    "</code>\n",
    "</pre>\n"
   ]
  },
  {
   "cell_type": "code",
   "execution_count": 7,
   "metadata": {
    "id": "67IKY_4MMa0C"
   },
   "outputs": [
    {
     "name": "stdout",
     "output_type": "stream",
     "text": [
      "+---------------+--------------------+\n",
      "|       patterns|combined_occurrences|\n",
      "+---------------+--------------------+\n",
      "|         ('a',)|                   2|\n",
      "|     ('a', 'b')|                   2|\n",
      "|('a', 'b', 'c')|                   1|\n",
      "|('a', 'b', 'f')|                   1|\n",
      "|     ('a', 'c')|                   1|\n",
      "|('a', 'c', 'f')|                   1|\n",
      "|     ('a', 'f')|                   1|\n",
      "|         ('b',)|                   4|\n",
      "|     ('b', 'c')|                   3|\n",
      "|('b', 'c', 'f')|                   1|\n",
      "|     ('b', 'f')|                   1|\n",
      "|         ('c',)|                   3|\n",
      "|     ('c', 'f')|                   1|\n",
      "|         ('f',)|                   1|\n",
      "|('a', 'b', 'd')|                   1|\n",
      "|('a', 'b', 'e')|                   1|\n",
      "|     ('a', 'd')|                   1|\n",
      "|('a', 'd', 'e')|                   1|\n",
      "|     ('a', 'e')|                   1|\n",
      "|     ('b', 'd')|                   1|\n",
      "|('b', 'd', 'e')|                   1|\n",
      "|     ('b', 'e')|                   1|\n",
      "|         ('d',)|                   1|\n",
      "|     ('d', 'e')|                   1|\n",
      "|         ('e',)|                   1|\n",
      "+---------------+--------------------+\n",
      "\n"
     ]
    }
   ],
   "source": [
    "def reduce_patterns(value1, value2):\n",
    "    \"\"\"\n",
    "    Reduce the mapped objects to unique words\n",
    "    by merging (summing ) their values.\n",
    "    As done in exemple 1.1\n",
    "    \"\"\"\n",
    "    return value1+value2\n",
    "\n",
    "\n",
    "combined_patterns_rdd = patterns_rdd.reduceByKey(reduce_product_by_key)\n",
    "\n",
    "# Output as dataframe\n",
    "combined_patterns_rdd.map(format_tuples).toDF(['patterns', 'combined_occurrences']).show(25)"
   ]
  },
  {
   "cell_type": "markdown",
   "metadata": {
    "id": "6BME1VugMa0F"
   },
   "source": [
    "### 2.3 Map to subpatterns (15 points)\n",
    "Ensuite, une autre fonction **map** doit être appliquée pour générer des sous-motifs. Encore une fois, les sous-motifs sont des éléments KEY-VALUE, où la KEY est également un sous-ensemble de produits. Cependant, la création de la KEY du sous-motif est une procédure différente. Cette fois, l'idée est de décomposer la liste des produits de chaque motif (KEY), de supprimer un produit à la fois et de produire la liste résultante en tant que nouvelle clé de sous-motif.\n",
    "\n",
    "Par exemple, pour un modèle donné $P$ avec trois produits, $p_1, p_2$ et $p_3$, trois nouvelles clés de sous-motifs vont être créées: (i) supprimer $p_1$ et retourner ($p_2, p_3$) ; (ii) supprimer $p_2$ et retourner ($p_1, p_3$); et (iii) supprimer $p_3$ et retourner ($p_1, p_2$).\n",
    "\n",
    "De plus, la structure VALUE du sous-motif sera également différente. Au lieu d'une seule valeur entière unique comme nous l'avons eu dans les motifs, cette fois un *tuple* devrait être créé pour le sous-motif VALUE. Ce tuple contient le produit qui a été retiré lors de la remise de la KEY et le nombre de fois que le motif est apparu. Par exemple ci-dessus, les valeurs doivent être ($p_1,v$), ($p_2,v$) et ($p_3,v $), respectivement, où $v$ est la VALEUR du motif.\n",
    "\n",
    "L'idée derrière les sous-motif est de créer **des règles** telles que : lorsque les produits de KEY ont été achetés, l'article présent dans la VALEUR a également été acheté *v* fois. En outre, chaque motif doit également produire un sous-motif dans lequel la clé est la même liste de produits du motif, mais la valeur est un tuple avec un produit nul (None) et le nombre de fois que le motif est apparu. Cet élément sera utile pour garder une trace du nombre de fois où un tel motif a été trouvé et sera utilisé ultérieurement pour calculer la valeur de confiance lors de la génération des règles d'association.\n",
    "\n",
    "Maintenant, implémentez la fonction **map_to_subpatterns** qui reçoit un motif et produit tous les sous-motif trouvés. Encore une fois, chaque entrée (motif) générera plus d'un élément KEY-VALUE, puis une fonction flatMap doit être appelée.\n",
    "\n",
    "Pour le toy dataset, la sortie attendue est:\n",
    "\n",
    "<pre style=\"align:center; border:1px solid black;font-size: 8pt; line-height: 1.1; height: auto; width: 20em; padding-left:5px\">\n",
    "<code>\n",
    "+---------------+---------+\n",
    "|    subpatterns|    rules|\n",
    "+---------------+---------+\n",
    "|         ('a',)|(None, 2)|\n",
    "|     ('a', 'b')|(None, 2)|\n",
    "|         ('b',)| ('a', 2)|\n",
    "|         ('a',)| ('b', 2)|\n",
    "|('a', 'b', 'c')|(None, 1)|\n",
    "|     ('b', 'c')| ('a', 1)|\n",
    "|     ('a', 'c')| ('b', 1)|\n",
    "|     ('a', 'b')| ('c', 1)|\n",
    "|('a', 'b', 'f')|(None, 1)|\n",
    "|     ('b', 'f')| ('a', 1)|\n",
    "|     ('a', 'f')| ('b', 1)|\n",
    "|     ('a', 'b')| ('f', 1)|\n",
    "|     ('a', 'c')|(None, 1)|\n",
    "|         ('c',)| ('a', 1)|\n",
    "|         ('a',)| ('c', 1)|\n",
    "|('a', 'c', 'f')|(None, 1)|\n",
    "|     ('c', 'f')| ('a', 1)|\n",
    "|     ('a', 'f')| ('c', 1)|\n",
    "|     ('a', 'c')| ('f', 1)|\n",
    "|     ('a', 'f')|(None, 1)|\n",
    "|         ('f',)| ('a', 1)|\n",
    "|         ('a',)| ('f', 1)|\n",
    "|         ('b',)|(None, 4)|\n",
    "|     ('b', 'c')|(None, 3)|\n",
    "|         ('c',)| ('b', 3)|\n",
    "|         ('b',)| ('c', 3)|\n",
    "|('b', 'c', 'f')|(None, 1)|\n",
    "|     ('c', 'f')| ('b', 1)|\n",
    "|     ('b', 'f')| ('c', 1)|\n",
    "|     ('b', 'c')| ('f', 1)|\n",
    "|     ('b', 'f')|(None, 1)|\n",
    "|         ('f',)| ('b', 1)|\n",
    "|         ('b',)| ('f', 1)|\n",
    "|         ('c',)|(None, 3)|\n",
    "|     ('c', 'f')|(None, 1)|\n",
    "|         ('f',)| ('c', 1)|\n",
    "|         ('c',)| ('f', 1)|\n",
    "|         ('f',)|(None, 1)|\n",
    "|('a', 'b', 'd')|(None, 1)|\n",
    "|     ('b', 'd')| ('a', 1)|\n",
    "|     ('a', 'd')| ('b', 1)|\n",
    "|     ('a', 'b')| ('d', 1)|\n",
    "|('a', 'b', 'e')|(None, 1)|\n",
    "|     ('b', 'e')| ('a', 1)|\n",
    "|     ('a', 'e')| ('b', 1)|\n",
    "|     ('a', 'b')| ('e', 1)|\n",
    "|     ('a', 'd')|(None, 1)|\n",
    "|         ('d',)| ('a', 1)|\n",
    "|         ('a',)| ('d', 1)|\n",
    "|('a', 'd', 'e')|(None, 1)|\n",
    "|     ('d', 'e')| ('a', 1)|\n",
    "|     ('a', 'e')| ('d', 1)|\n",
    "|     ('a', 'd')| ('e', 1)|\n",
    "|     ('a', 'e')|(None, 1)|\n",
    "|         ('e',)| ('a', 1)|\n",
    "|         ('a',)| ('e', 1)|\n",
    "|     ('b', 'd')|(None, 1)|\n",
    "|         ('d',)| ('b', 1)|\n",
    "|         ('b',)| ('d', 1)|\n",
    "|('b', 'd', 'e')|(None, 1)|\n",
    "|     ('d', 'e')| ('b', 1)|\n",
    "|     ('b', 'e')| ('d', 1)|\n",
    "|     ('b', 'd')| ('e', 1)|\n",
    "|     ('b', 'e')|(None, 1)|\n",
    "|         ('e',)| ('b', 1)|\n",
    "|         ('b',)| ('e', 1)|\n",
    "|         ('d',)|(None, 1)|\n",
    "|     ('d', 'e')|(None, 1)|\n",
    "|         ('e',)| ('d', 1)|\n",
    "|         ('d',)| ('e', 1)|\n",
    "|         ('e',)|(None, 1)|\n",
    "+---------------+---------+\n",
    "</code>\n",
    "</pre>"
   ]
  },
  {
   "cell_type": "code",
   "execution_count": 8,
   "metadata": {
    "id": "t8aLrdMuMa0G"
   },
   "outputs": [
    {
     "name": "stdout",
     "output_type": "stream",
     "text": [
      "+---------------+---------+\n",
      "|    subpatterns|    rules|\n",
      "+---------------+---------+\n",
      "|         ('a',)|(None, 2)|\n",
      "|     ('a', 'b')|(None, 2)|\n",
      "|         ('b',)| ('a', 2)|\n",
      "|         ('a',)| ('b', 2)|\n",
      "|('a', 'b', 'c')|(None, 1)|\n",
      "|     ('b', 'c')| ('a', 1)|\n",
      "|     ('a', 'c')| ('b', 1)|\n",
      "|     ('a', 'b')| ('c', 1)|\n",
      "|('a', 'b', 'f')|(None, 1)|\n",
      "|     ('b', 'f')| ('a', 1)|\n",
      "|     ('a', 'f')| ('b', 1)|\n",
      "|     ('a', 'b')| ('f', 1)|\n",
      "|     ('a', 'c')|(None, 1)|\n",
      "|         ('c',)| ('a', 1)|\n",
      "|         ('a',)| ('c', 1)|\n",
      "|('a', 'c', 'f')|(None, 1)|\n",
      "|     ('c', 'f')| ('a', 1)|\n",
      "|     ('a', 'f')| ('c', 1)|\n",
      "|     ('a', 'c')| ('f', 1)|\n",
      "|     ('a', 'f')|(None, 1)|\n",
      "|         ('f',)| ('a', 1)|\n",
      "|         ('a',)| ('f', 1)|\n",
      "|         ('b',)|(None, 4)|\n",
      "|     ('b', 'c')|(None, 3)|\n",
      "|         ('c',)| ('b', 3)|\n",
      "|         ('b',)| ('c', 3)|\n",
      "|('b', 'c', 'f')|(None, 1)|\n",
      "|     ('c', 'f')| ('b', 1)|\n",
      "|     ('b', 'f')| ('c', 1)|\n",
      "|     ('b', 'c')| ('f', 1)|\n",
      "|     ('b', 'f')|(None, 1)|\n",
      "|         ('f',)| ('b', 1)|\n",
      "|         ('b',)| ('f', 1)|\n",
      "|         ('c',)|(None, 3)|\n",
      "|     ('c', 'f')|(None, 1)|\n",
      "|         ('f',)| ('c', 1)|\n",
      "|         ('c',)| ('f', 1)|\n",
      "|         ('f',)|(None, 1)|\n",
      "|('a', 'b', 'd')|(None, 1)|\n",
      "|     ('b', 'd')| ('a', 1)|\n",
      "|     ('a', 'd')| ('b', 1)|\n",
      "|     ('a', 'b')| ('d', 1)|\n",
      "|('a', 'b', 'e')|(None, 1)|\n",
      "|     ('b', 'e')| ('a', 1)|\n",
      "|     ('a', 'e')| ('b', 1)|\n",
      "|     ('a', 'b')| ('e', 1)|\n",
      "|     ('a', 'd')|(None, 1)|\n",
      "|         ('d',)| ('a', 1)|\n",
      "|         ('a',)| ('d', 1)|\n",
      "|('a', 'd', 'e')|(None, 1)|\n",
      "|     ('d', 'e')| ('a', 1)|\n",
      "|     ('a', 'e')| ('d', 1)|\n",
      "|     ('a', 'd')| ('e', 1)|\n",
      "|     ('a', 'e')|(None, 1)|\n",
      "|         ('e',)| ('a', 1)|\n",
      "|         ('a',)| ('e', 1)|\n",
      "|     ('b', 'd')|(None, 1)|\n",
      "|         ('d',)| ('b', 1)|\n",
      "|         ('b',)| ('d', 1)|\n",
      "|('b', 'd', 'e')|(None, 1)|\n",
      "|     ('d', 'e')| ('b', 1)|\n",
      "|     ('b', 'e')| ('d', 1)|\n",
      "|     ('b', 'd')| ('e', 1)|\n",
      "|     ('b', 'e')|(None, 1)|\n",
      "|         ('e',)| ('b', 1)|\n",
      "|         ('b',)| ('e', 1)|\n",
      "|         ('d',)|(None, 1)|\n",
      "|     ('d', 'e')|(None, 1)|\n",
      "|         ('e',)| ('d', 1)|\n",
      "|         ('d',)| ('e', 1)|\n",
      "|         ('e',)|(None, 1)|\n",
      "+---------------+---------+\n",
      "\n"
     ]
    }
   ],
   "source": [
    "from copy import deepcopy\n",
    "def map_to_subpatterns(pattern):\n",
    "    \"\"\"\n",
    "    Show the sub-patterns\n",
    "    \"\"\"\n",
    "    yield (pattern[0], tuple((None, pattern[1])))\n",
    "    if len(pattern[0]) > 1:\n",
    "        for item in pattern[0]:\n",
    "            yield(tuple(sub_pattern for sub_pattern in pattern[0] if sub_pattern != item), \n",
    "                  tuple((item, pattern[1])))\n",
    "\n",
    "subpatterns_rdd = combined_patterns_rdd.flatMap(map_to_subpatterns)\n",
    "\n",
    "# Output as dataframe\n",
    "subpatterns_rdd.map(format_tuples).toDF(['subpatterns', 'rules']).show(100)"
   ]
  },
  {
   "cell_type": "markdown",
   "metadata": {
    "id": "jl6TWh8rMa0J"
   },
   "source": [
    "### 2.4 Reduce Subpatterns (2.5 points)\n",
    "\n",
    "Encore une fois, une fonction **reduce** est nécessaire pour regrouper tous les sous-motif par leur KEY. L'objectif de cette procédure de réduction est de créer une liste de toutes les **règles** apparues dans KEY. Par conséquent, la sortie attendue résultant de cette fonction de réduction est également un élément KEY-VALUE, où la clé est la KEY du sous-motif et la valeur est un groupe contenant toutes les valeurs des sous-motif qui partagent la même clé.\n",
    "\n",
    "Pour le toy dataset, la sortie attendue est:\n",
    "\n",
    "\n",
    "<pre style=\"align:center; border:1px solid black;font-size: 8pt; line-height: 1.1; height: auto; width: 50em; padding-left:5px\">\n",
    "<code>\n",
    "+---------------+-------------------------------------------------------------+\n",
    "|subpatterns    |combined_rules                                               |\n",
    "+---------------+-------------------------------------------------------------+\n",
    "|('a',)         |[(None, 2), ('b', 2), ('c', 1), ('f', 1), ('d', 1), ('e', 1)]|\n",
    "|('a', 'b')     |[(None, 2), ('c', 1), ('f', 1), ('d', 1), ('e', 1)]          |\n",
    "|('b',)         |[('a', 2), (None, 4), ('c', 3), ('f', 1), ('d', 1), ('e', 1)]|\n",
    "|('a', 'b', 'c')|[(None, 1)]                                                  |\n",
    "|('b', 'c')     |[('a', 1), (None, 3), ('f', 1)]                              |\n",
    "|('a', 'c')     |[('b', 1), (None, 1), ('f', 1)]                              |\n",
    "|('a', 'b', 'f')|[(None, 1)]                                                  |\n",
    "|('b', 'f')     |[('a', 1), ('c', 1), (None, 1)]                              |\n",
    "|('a', 'f')     |[('b', 1), ('c', 1), (None, 1)]                              |\n",
    "|('c',)         |[('a', 1), ('b', 3), (None, 3), ('f', 1)]                    |\n",
    "|('a', 'c', 'f')|[(None, 1)]                                                  |\n",
    "|('c', 'f')     |[('a', 1), ('b', 1), (None, 1)]                              |\n",
    "|('f',)         |[('a', 1), ('b', 1), ('c', 1), (None, 1)]                    |\n",
    "|('b', 'c', 'f')|[(None, 1)]                                                  |\n",
    "|('a', 'b', 'd')|[(None, 1)]                                                  |\n",
    "|('b', 'd')     |[('a', 1), (None, 1), ('e', 1)]                              |\n",
    "|('a', 'd')     |[('b', 1), (None, 1), ('e', 1)]                              |\n",
    "|('a', 'b', 'e')|[(None, 1)]                                                  |\n",
    "|('b', 'e')     |[('a', 1), ('d', 1), (None, 1)]                              |\n",
    "|('a', 'e')     |[('b', 1), ('d', 1), (None, 1)]                              |\n",
    "+---------------+-------------------------------------------------------------+\n",
    "</code>\n",
    "</pre>\n"
   ]
  },
  {
   "cell_type": "code",
   "execution_count": 9,
   "metadata": {
    "id": "LOP-SVIhMa0J"
   },
   "outputs": [
    {
     "name": "stdout",
     "output_type": "stream",
     "text": [
      "+---------------+-------------------------------------------------------------+\n",
      "|subpatterns    |combined_rules                                               |\n",
      "+---------------+-------------------------------------------------------------+\n",
      "|('a',)         |[(None, 2), ('b', 2), ('c', 1), ('f', 1), ('d', 1), ('e', 1)]|\n",
      "|('a', 'b')     |[(None, 2), ('c', 1), ('f', 1), ('d', 1), ('e', 1)]          |\n",
      "|('b',)         |[('a', 2), (None, 4), ('c', 3), ('f', 1), ('d', 1), ('e', 1)]|\n",
      "|('a', 'b', 'c')|[(None, 1)]                                                  |\n",
      "|('b', 'c')     |[('a', 1), (None, 3), ('f', 1)]                              |\n",
      "|('a', 'c')     |[('b', 1), (None, 1), ('f', 1)]                              |\n",
      "|('a', 'b', 'f')|[(None, 1)]                                                  |\n",
      "|('b', 'f')     |[('a', 1), ('c', 1), (None, 1)]                              |\n",
      "|('a', 'f')     |[('b', 1), ('c', 1), (None, 1)]                              |\n",
      "|('c',)         |[('a', 1), ('b', 3), (None, 3), ('f', 1)]                    |\n",
      "|('a', 'c', 'f')|[(None, 1)]                                                  |\n",
      "|('c', 'f')     |[('a', 1), ('b', 1), (None, 1)]                              |\n",
      "|('f',)         |[('a', 1), ('b', 1), ('c', 1), (None, 1)]                    |\n",
      "|('b', 'c', 'f')|[(None, 1)]                                                  |\n",
      "|('a', 'b', 'd')|[(None, 1)]                                                  |\n",
      "|('b', 'd')     |[('a', 1), (None, 1), ('e', 1)]                              |\n",
      "|('a', 'd')     |[('b', 1), (None, 1), ('e', 1)]                              |\n",
      "|('a', 'b', 'e')|[(None, 1)]                                                  |\n",
      "|('b', 'e')     |[('a', 1), ('d', 1), (None, 1)]                              |\n",
      "|('a', 'e')     |[('b', 1), ('d', 1), (None, 1)]                              |\n",
      "+---------------+-------------------------------------------------------------+\n",
      "only showing top 20 rows\n",
      "\n"
     ]
    }
   ],
   "source": [
    "combined_rules = subpatterns_rdd.groupByKey().mapValues(list)\n",
    "\n",
    "# Output as dataframe\n",
    "combined_rules.map(format_tuples).toDF(['subpatterns', 'combined_rules']).show(truncate=False)"
   ]
  },
  {
   "cell_type": "markdown",
   "metadata": {
    "id": "Uh69x3a8Ma0P"
   },
   "source": [
    "### 2.5. Map to Association Rules (15 points)\n",
    "\n",
    "Enfin, la dernière étape de l'algorithme consiste à créer les règles d'association pour effectuer la MBA. Le but de cette fonction Map est de calculer le niveau **de confiance** de l'achat d'un produit, sachant qu'il y a déjà un ensemble de produits dans le panier. Ainsi, la KEY du sous-motif est l'ensemble des produits placés dans le panier et, pour chaque produit présent dans la liste des règles, c'est-à-dire dans la VALEUR, la confiance peut être calculée comme :\n",
    "\n",
    "\\begin{align*}\n",
    "\\frac{\\text{nombre de fois où le produit a été acheté avec KEY}}{\\text{nombre de fois où la KEY est apparue}}\n",
    "\\end{align*}\n",
    "\n",
    "Pour l'exemple donné dans la figure \"workflow\", *le café* a été acheté 20 fois et, dans 17 d'entre eux, le *lait* a été acheté ensemble. Ensuite, le niveau de confiance pour acheter du *lait* sachant que *le café* est dans le panier est $\\frac{17}{20}=0,85$, ce qui signifie que dans 85% des cas où le café a été acheté, le lait a aussi été acheté.\n",
    "\n",
    "Implémentez la fonction **map_to_assoc_rules** qui calcule le niveau de confiance pour chaque sous-motif.\n",
    "\n",
    "Pour le toy dataset, la sortie attendue est:\n",
    "<pre style=\"align:center; border:1px solid black;font-size: 8pt; line-height: 1.1; height: auto; width: 57em; padding-left:5px\">\n",
    "<code>\n",
    "+---------------+------------------------------------------------------------------+\n",
    "|patterns       |association_rules                                                 |\n",
    "+---------------+------------------------------------------------------------------+\n",
    "|('a',)         |[('b', 1.0), ('c', 0.5), ('f', 0.5), ('d', 0.5), ('e', 0.5)]      |\n",
    "|('a', 'b')     |[('c', 0.5), ('f', 0.5), ('d', 0.5), ('e', 0.5)]                  |\n",
    "|('b',)         |[('a', 0.5), ('c', 0.75), ('f', 0.25), ('d', 0.25), ('e', 0.25)]  |\n",
    "|('a', 'b', 'c')|[]                                                                |\n",
    "|('b', 'c')     |[('a', 0.3333333333333333), ('f', 0.3333333333333333)]            |\n",
    "|('a', 'c')     |[('b', 1.0), ('f', 1.0)]                                          |\n",
    "|('a', 'b', 'f')|[]                                                                |\n",
    "|('b', 'f')     |[('a', 1.0), ('c', 1.0)]                                          |\n",
    "|('a', 'f')     |[('b', 1.0), ('c', 1.0)]                                          |\n",
    "|('c',)         |[('a', 0.3333333333333333), ('b', 1.0), ('f', 0.3333333333333333)]|\n",
    "|('a', 'c', 'f')|[]                                                                |\n",
    "|('c', 'f')     |[('a', 1.0), ('b', 1.0)]                                          |\n",
    "|('f',)         |[('a', 1.0), ('b', 1.0), ('c', 1.0)]                              |\n",
    "|('b', 'c', 'f')|[]                                                                |\n",
    "|('a', 'b', 'd')|[]                                                                |\n",
    "|('b', 'd')     |[('a', 1.0), ('e', 1.0)]                                          |\n",
    "|('a', 'd')     |[('b', 1.0), ('e', 1.0)]                                          |\n",
    "|('a', 'b', 'e')|[]                                                                |\n",
    "|('b', 'e')     |[('a', 1.0), ('d', 1.0)]                                          |\n",
    "|('a', 'e')     |[('b', 1.0), ('d', 1.0)]                                          |\n",
    "+---------------+------------------------------------------------------------------+\n",
    "</code>\n",
    "</pre>"
   ]
  },
  {
   "cell_type": "code",
   "execution_count": 10,
   "metadata": {
    "id": "DPrbn5CfMa0P"
   },
   "outputs": [
    {
     "name": "stdout",
     "output_type": "stream",
     "text": [
      "+---------------+------------------------------------------------------------+\n",
      "|patterns       |association_rules                                           |\n",
      "+---------------+------------------------------------------------------------+\n",
      "|('a',)         |['b', 1.0, 'c', 0.5, 'f', 0.5, 'd', 0.5, 'e', 0.5]          |\n",
      "|('a', 'b')     |['c', 0.5, 'f', 0.5, 'd', 0.5, 'e', 0.5]                    |\n",
      "|('b',)         |['a', 0.5, 'c', 0.75, 'f', 0.25, 'd', 0.25, 'e', 0.25]      |\n",
      "|('a', 'b', 'c')|[]                                                          |\n",
      "|('b', 'c')     |['a', 0.3333333333333333, 'f', 0.3333333333333333]          |\n",
      "|('a', 'c')     |['b', 1.0, 'f', 1.0]                                        |\n",
      "|('a', 'b', 'f')|[]                                                          |\n",
      "|('b', 'f')     |['a', 1.0, 'c', 1.0]                                        |\n",
      "|('a', 'f')     |['b', 1.0, 'c', 1.0]                                        |\n",
      "|('c',)         |['a', 0.3333333333333333, 'b', 1.0, 'f', 0.3333333333333333]|\n",
      "|('a', 'c', 'f')|[]                                                          |\n",
      "|('c', 'f')     |['a', 1.0, 'b', 1.0]                                        |\n",
      "|('f',)         |['a', 1.0, 'b', 1.0, 'c', 1.0]                              |\n",
      "|('b', 'c', 'f')|[]                                                          |\n",
      "|('a', 'b', 'd')|[]                                                          |\n",
      "|('b', 'd')     |['a', 1.0, 'e', 1.0]                                        |\n",
      "|('a', 'd')     |['b', 1.0, 'e', 1.0]                                        |\n",
      "|('a', 'b', 'e')|[]                                                          |\n",
      "|('b', 'e')     |['a', 1.0, 'd', 1.0]                                        |\n",
      "|('a', 'e')     |['b', 1.0, 'd', 1.0]                                        |\n",
      "+---------------+------------------------------------------------------------+\n",
      "only showing top 20 rows\n",
      "\n"
     ]
    }
   ],
   "source": [
    "def map_to_assoc_rules(rule):\n",
    "    \"\"\"\n",
    "    Map the association rules\n",
    "    \"\"\"\n",
    "    association_rules = []\n",
    "    \n",
    "    for i in rule[1]:\n",
    "        if i[0] is None:\n",
    "            key_occurences = i[1]\n",
    "    \n",
    "    for i in rule[1]:\n",
    "        if i[0] is not None:\n",
    "            association_rules.extend(tuple((i[0], i[1]/key_occurences)))\n",
    "            \n",
    "    yield(rule[0],association_rules)\n",
    "\n",
    "assoc_rules = combined_rules.flatMap(map_to_assoc_rules)\n",
    "\n",
    "# Output as dataframe\n",
    "assoc_rules.map(format_tuples).toDF(['patterns', 'association_rules']).show(truncate=False)"
   ]
  },
  {
   "cell_type": "markdown",
   "metadata": {
    "id": "BPV5g2hwMa0U"
   },
   "source": [
    "## 3. Instacart dataset\n",
    "\n",
    "Avec votre algorithme MBA prêt à être utilisé, il est maintenant temps de travailler sur l'ensemble de données réel. Pour cette partie du TP, téléchargez le dataset [instacart](https://drive.google.com/file/d/1pXjqPz1RbL40yCGWnTCbmW_ZXrjlfJi4/view?usp=sharing) et lisez sa [description](https://gist.github.com/jeremystan/c3b39d947d9b88b3ccff3147dbcf6c6b) pour comprendre la structure de l'ensemble de données.\n",
    "\n",
    "Avant d'appliquer l'algorithme développé sur l'ensemble de données instacart, vous devez d'abord filtrer les transactions pour qu'elles soient au même format défini par votre algorithme (une transaction par ligne). Pour manipuler les données, nous pouvons utiliser le bloc de données de Spark et le module SQL présenté dans la section 1.\n",
    "\n",
    "La cellule de code suivante utilise le module Spark SQL pour lire les commandes de ``order_products__train.csv`` et les informations détaillées de ``orders.csv`` et ``products.csv`` pour construire une dataframe qui contient un liste de tous les produits jamais achetés par chaque utilisateur."
   ]
  },
  {
   "cell_type": "code",
   "execution_count": 11,
   "metadata": {
    "id": "6oB1eTkeMa0W"
   },
   "outputs": [
    {
     "name": "stderr",
     "output_type": "stream",
     "text": [
      "                                                                                \r"
     ]
    },
    {
     "name": "stdout",
     "output_type": "stream",
     "text": [
      "order_products__train.csv\n",
      "+--------+----------+-----------------+---------+\n",
      "|order_id|product_id|add_to_cart_order|reordered|\n",
      "+--------+----------+-----------------+---------+\n",
      "|       1|     49302|                1|        1|\n",
      "|       1|     11109|                2|        1|\n",
      "|       1|     10246|                3|        0|\n",
      "|       1|     49683|                4|        0|\n",
      "|       1|     43633|                5|        1|\n",
      "+--------+----------+-----------------+---------+\n",
      "only showing top 5 rows\n",
      "\n"
     ]
    },
    {
     "name": "stderr",
     "output_type": "stream",
     "text": [
      "                                                                                \r"
     ]
    },
    {
     "name": "stdout",
     "output_type": "stream",
     "text": [
      "orders.csv\n",
      "+--------+-------+--------+------------+---------+-----------------+----------------------+\n",
      "|order_id|user_id|eval_set|order_number|order_dow|order_hour_of_day|days_since_prior_order|\n",
      "+--------+-------+--------+------------+---------+-----------------+----------------------+\n",
      "| 2539329|      1|   prior|           1|        2|                8|                  null|\n",
      "| 2398795|      1|   prior|           2|        3|                7|                  15.0|\n",
      "|  473747|      1|   prior|           3|        3|               12|                  21.0|\n",
      "| 2254736|      1|   prior|           4|        4|                7|                  29.0|\n",
      "|  431534|      1|   prior|           5|        4|               15|                  28.0|\n",
      "+--------+-------+--------+------------+---------+-----------------+----------------------+\n",
      "only showing top 5 rows\n",
      "\n",
      "products.csv\n",
      "+----------+--------------------+--------+-------------+\n",
      "|product_id|        product_name|aisle_id|department_id|\n",
      "+----------+--------------------+--------+-------------+\n",
      "|         1|Chocolate Sandwic...|      61|           19|\n",
      "|         2|    All-Seasons Salt|     104|           13|\n",
      "|         3|Robust Golden Uns...|      94|            7|\n",
      "|         4|Smart Ones Classi...|      38|            1|\n",
      "|         5|Green Chile Anyti...|       5|           13|\n",
      "+----------+--------------------+--------+-------------+\n",
      "only showing top 5 rows\n",
      "\n",
      "departments.csv\n",
      "+-------------+----------+\n",
      "|department_id|department|\n",
      "+-------------+----------+\n",
      "|            1|    frozen|\n",
      "|            2|     other|\n",
      "|            3|    bakery|\n",
      "|            4|   produce|\n",
      "|            5|   alcohol|\n",
      "+-------------+----------+\n",
      "only showing top 5 rows\n",
      "\n"
     ]
    },
    {
     "name": "stderr",
     "output_type": "stream",
     "text": [
      "[Stage 54:============================>                            (8 + 8) / 16]\r"
     ]
    },
    {
     "name": "stdout",
     "output_type": "stream",
     "text": [
      "+-------+--------------------------------------------------------------------------------+\n",
      "|user_id|                                                                        products|\n",
      "+-------+--------------------------------------------------------------------------------+\n",
      "|      1|[Zero Calorie Cola, Organic Half & Half, Organic Whole Milk, Aged White Chedd...|\n",
      "|      2|[Organic Hearty Split Pea & Uncured Ham Soup, Organic Cashew Carrot Ginger So...|\n",
      "|      5|[Organic Baby Arugula, Organic Grape Tomatoes, Tamari Gluten Free Soy Sauce, ...|\n",
      "|      7|[Honeycrisp Apple, Organic Dark Brown Sugar, Vanilla Coffee Concentrate, Lact...|\n",
      "|      8|[Organic Green Onions, Solid White-No Salt Added Albacore Tuna, Organic Whole...|\n",
      "+-------+--------------------------------------------------------------------------------+\n",
      "only showing top 5 rows\n",
      "\n"
     ]
    },
    {
     "name": "stderr",
     "output_type": "stream",
     "text": [
      "                                                                                \r"
     ]
    }
   ],
   "source": [
    "df_order_prod = spark.read.csv(bucket_path + 'instacart/order_products__train.csv', header=True, sep=',', inferSchema=True)\n",
    "print('order_products__train.csv')\n",
    "df_order_prod.show(5)\n",
    "\n",
    "df_orders = spark.read.csv(bucket_path + 'instacart/orders.csv', header=True, sep=',', inferSchema=True)\n",
    "print('orders.csv')\n",
    "df_orders.show(5)\n",
    "\n",
    "df_products = spark.read.csv(bucket_path + 'instacart/products.csv', header=True, sep=',', inferSchema=True)\n",
    "print('products.csv')\n",
    "df_products.show(5)\n",
    "\n",
    "df_departments = spark.read.csv(bucket_path + 'instacart/departments.csv', header=True, sep=',', inferSchema=True)\n",
    "print('departments.csv')\n",
    "df_departments.show(5)\n",
    "\n",
    "\"\"\"\n",
    "List of products ever purchased by each user\n",
    "\"\"\"\n",
    "# USING SQL\n",
    "df_order_prod.createOrReplaceTempView(\"order_prod\") # creates table 'order_prod'\n",
    "df_orders.createOrReplaceTempView(\"orders\") # creates table 'orders'\n",
    "df_products.createOrReplaceTempView(\"products\") # creates table 'products'\n",
    "df_departments.createOrReplaceTempView(\"departments\") # creates table 'departments'\n",
    "spark.sql('SELECT o.user_id, COLLECT_LIST(p.product_name) AS products' \n",
    "               ' FROM orders o '\n",
    "               ' INNER JOIN order_prod op ON op.order_id = o.order_id'\n",
    "               ' INNER JOIN products p    ON op.product_id = p.product_id'\n",
    "               ' GROUP BY user_id ORDER BY o.user_id').show(5, truncate=80)\n",
    "\n",
    "\n",
    "# USING DATAFRAME OPERATIONS\n",
    "# df_orders.join(df_order_prod, df_order_prod.order_id == df_orders.order_id, 'inner')\\\n",
    "# .join(df_products, df_products.product_id == df_order_prod.product_id, 'inner')\\\n",
    "# .groupBy(df_orders.user_id).agg(f.collect_list(df_products.product_name).alias('products'))\\\n",
    "# .orderBy(df_orders.user_id).show(5, truncate=80)"
   ]
  },
  {
   "cell_type": "markdown",
   "metadata": {
    "id": "JEqVeqhkMa0a"
   },
   "source": [
    "### 3.1 Perspectives commerciales (20 points) \n",
    "\n",
    "Maintenant, vous êtes le *data scientist*. En ne considérant que les commandes de ``order_products__train.csv``, l'utilisation du module Spark SQL, performant avec SQL ou dataframe, pour répondre aux questions suivantes:\n",
    "\n",
    "1. Quels sont les 10 produits les plus susceptibles d'être commandé de nouveau? Ne considérez que les produits achetés au moins 40 fois pour cette tâche.\n",
    "2. Quels sont les 3 produits les plus achetés dans chaque département?\n",
    "4. Quelle est la taille moyenne du panier pour chaque jour de la semaine?\n",
    "    - utilisez un barplot pour visualiser vos résultats\n",
    "\n",
    "**La sortie de ces questions doit contenir le NOM des produits, pas leur ID.**"
   ]
  },
  {
   "cell_type": "code",
   "execution_count": 12,
   "metadata": {},
   "outputs": [
    {
     "name": "stdout",
     "output_type": "stream",
     "text": [
      "+--------------------+-----------+---------+------------------+\n",
      "|        product_name|order_count|reordered|reorder_percentage|\n",
      "+--------------------+-----------+---------+------------------+\n",
      "|2% Lactose Free Milk|         92|       92|0.9347826086956522|\n",
      "|Organic Low Fat Milk|        368|      368|0.9130434782608695|\n",
      "|100% Florida Oran...|         59|       59|0.8983050847457628|\n",
      "|Original Sparklin...|         45|       45|0.8888888888888888|\n",
      "|Organic Spelt Tor...|         81|       81|0.8888888888888888|\n",
      "|              Banana|      18726|    18726|0.8841717398269785|\n",
      "|  Petit Suisse Fruit|        120|      120|0.8833333333333333|\n",
      "|Organic Lowfat 1%...|        483|      483|0.8819875776397516|\n",
      "|Organic Lactose F...|        269|      269|0.8810408921933085|\n",
      "|      1% Lowfat Milk|        461|      461|0.8785249457700651|\n",
      "+--------------------+-----------+---------+------------------+\n",
      "only showing top 10 rows\n",
      "\n",
      "CPU times: user 3.58 ms, sys: 654 µs, total: 4.23 ms\n",
      "Wall time: 1.13 s\n"
     ]
    }
   ],
   "source": [
    "%%time\n",
    "Q1_sql = \"\"\"\n",
    "SELECT\n",
    "  products.product_name,\n",
    "  order_count,\n",
    "  reordered,\n",
    "  reorder_percentage\n",
    "FROM\n",
    "  (\n",
    "    SELECT\n",
    "      order_prod.product_id,\n",
    "      COUNT(order_prod.product_id) AS order_count,\n",
    "      COUNT(order_prod.reordered) AS reordered,\n",
    "      SUM(order_prod.reordered) / COUNT(order_prod.product_id) AS reorder_percentage\n",
    "    FROM\n",
    "      order_prod\n",
    "    GROUP BY\n",
    "      product_id\n",
    "  ) AS Table1\n",
    "  LEFT JOIN products ON Table1.product_id = products.product_id\n",
    "WHERE\n",
    "  order_count >= 40\n",
    "ORDER BY\n",
    "  reorder_percentage DESC\n",
    "\"\"\"\n",
    "\n",
    "Q1_df = spark.sql(Q1_sql)\n",
    "Q1_df.show(10)\n"
   ]
  },
  {
   "cell_type": "code",
   "execution_count": 13,
   "metadata": {},
   "outputs": [],
   "source": [
    "# import plotly.express as px\n",
    "# import plotly.graph_objects as go\n",
    "# Q1_df_pd = Q1_df.toPandas()\n",
    "# fig = px.bar(Q1_df_pd[1:10],\n",
    "#              x=\"product_name\",\n",
    "#              y=\"reorder_percentage\")\n",
    "# fig.update_layout(xaxis_title='Products', yaxis_title='Reorder percentage')\n",
    "# fig.show()"
   ]
  },
  {
   "cell_type": "code",
   "execution_count": 14,
   "metadata": {},
   "outputs": [
    {
     "name": "stdout",
     "output_type": "stream",
     "text": [
      "+--------------------+-------------+-------------+-----------+-------+\n",
      "|        product_name|department_id|   department|order_count|ranking|\n",
      "+--------------------+-------------+-------------+-----------+-------+\n",
      "|         Blueberries|            1|       frozen|       2323|      1|\n",
      "|Organic Broccoli ...|            1|       frozen|       1361|      2|\n",
      "|Organic Whole Str...|            1|       frozen|       1213|      3|\n",
      "|         Dried Mango|           10|         bulk|        446|      1|\n",
      "| Organic Rolled Oats|           10|         bulk|        259|      2|\n",
      "|Organic Black Mis...|           10|         bulk|        125|      3|\n",
      "|  Lavender Hand Soap|           11|personal care|        258|      1|\n",
      "|        Cotton Swabs|           11|personal care|        258|      1|\n",
      "|Lemon Verbena Han...|           11|personal care|        191|      3|\n",
      "|Boneless Skinless...|           12| meat seafood|       2088|      1|\n",
      "|Ground Turkey Breast|           12| meat seafood|        958|      2|\n",
      "|Boneless Skinless...|           12| meat seafood|        943|      3|\n",
      "|Extra Virgin Oliv...|           13|       pantry|       2068|      1|\n",
      "|Creamy Peanut Butter|           13|       pantry|        991|      2|\n",
      "|Creamy Almond Butter|           13|       pantry|        850|      3|\n",
      "|  Honey Nut Cheerios|           14|    breakfast|       1218|      1|\n",
      "|Organic Old Fashi...|           14|    breakfast|        747|      2|\n",
      "|  Raisin Bran Cereal|           14|    breakfast|        600|      3|\n",
      "| Organic Black Beans|           15| canned goods|       1576|      1|\n",
      "|No Salt Added Bla...|           15| canned goods|       1250|      2|\n",
      "+--------------------+-------------+-------------+-----------+-------+\n",
      "only showing top 20 rows\n",
      "\n",
      "CPU times: user 2.32 ms, sys: 0 ns, total: 2.32 ms\n",
      "Wall time: 1.89 s\n"
     ]
    }
   ],
   "source": [
    "%%time\n",
    "Q2_sql = \"\"\"\n",
    "SELECT *\n",
    "FROM(\n",
    "SELECT\n",
    "  Table2.product_name,\n",
    "  Table2.department_id,\n",
    "  Table3.department,\n",
    "  order_count,\n",
    "  RANK() OVER (PARTITION BY Table2.department_id ORDER BY order_count DESC) AS ranking\n",
    "FROM\n",
    "  (\n",
    "    SELECT\n",
    "      order_prod.product_id,\n",
    "      COUNT(order_prod.product_id) AS order_count\n",
    "    FROM\n",
    "      order_prod\n",
    "    GROUP BY\n",
    "      product_id\n",
    "  ) AS Table1\n",
    "  LEFT JOIN products Table2\n",
    "      ON Table1.product_id = Table2.product_id\n",
    "  LEFT JOIN departments Table3 \n",
    "      ON Table2.department_id = Table3.department_id\n",
    "ORDER  BY department_id ASC, order_count DESC)\n",
    "Where ranking < 4\n",
    "\"\"\"\n",
    "\n",
    "Q2_df = spark.sql(Q2_sql)\n",
    "Q2_df.show()"
   ]
  },
  {
   "cell_type": "code",
   "execution_count": 15,
   "metadata": {},
   "outputs": [],
   "source": [
    "# # Bar plot viz\n",
    "# Q2_df_pd = Q2_df.toPandas()\n",
    "# fig = px.histogram(Q2_df_pd,\n",
    "#              x=\"department\",\n",
    "#              y=\"order_count\",\n",
    "#              barmode='group',\n",
    "#             color='ranking',\n",
    "#             hover_name=\"product_name\")\n",
    "# fig.update_layout(xaxis_title='Departments', yaxis_title='Product ordered')\n",
    "# fig.show()"
   ]
  },
  {
   "cell_type": "code",
   "execution_count": 16,
   "metadata": {},
   "outputs": [
    {
     "name": "stderr",
     "output_type": "stream",
     "text": [
      "                                                                                \r"
     ]
    },
    {
     "name": "stdout",
     "output_type": "stream",
     "text": [
      "+---------+--------------------+\n",
      "|order_dow|Daily_Average_Basket|\n",
      "+---------+--------------------+\n",
      "|        0|  11.797778991443655|\n",
      "|        1|  10.470618137454249|\n",
      "|        2|    9.96103976673491|\n",
      "|        3|    9.84133358832154|\n",
      "|        4|   9.742527727301209|\n",
      "|        5|  10.163736642537057|\n",
      "|        6|  10.966562615734617|\n",
      "+---------+--------------------+\n",
      "\n",
      "CPU times: user 2.61 ms, sys: 3.13 ms, total: 5.74 ms\n",
      "Wall time: 3.12 s\n"
     ]
    }
   ],
   "source": [
    "%%time\n",
    "Q3_sql = \"\"\"\n",
    "SELECT\n",
    "  order_dow,\n",
    "  Avg(items_ordered) AS Daily_Average_Basket\n",
    "FROM\n",
    "  (\n",
    "    SELECT\n",
    "      order_prod.order_id,\n",
    "      COUNT(order_prod.order_id) AS items_ordered\n",
    "    FROM\n",
    "      order_prod\n",
    "    GROUP BY\n",
    "      order_id\n",
    "  ) AS Table1\n",
    "  LEFT JOIN orders ON Table1.order_id = orders.order_id\n",
    "GROUP BY order_dow\n",
    "ORDER BY order_dow\n",
    "\"\"\"\n",
    "\n",
    "Q3_df = spark.sql(Q3_sql)\n",
    "Q3_df.show()"
   ]
  },
  {
   "cell_type": "code",
   "execution_count": 17,
   "metadata": {},
   "outputs": [],
   "source": [
    "# # Bar plot viz\n",
    "\n",
    "# import plotly.express as px\n",
    "# Q3_df_pd = Q3_df.toPandas()\n",
    "# fig = px.bar(Q3_df_pd,\n",
    "#              x=\"order_dow\",\n",
    "#              y=\"Daily_Average_Basket\")\n",
    "# fig.update_layout(xaxis_title='Day of the week', yaxis_title='Daily average basket')\n",
    "# fig.update_layout(xaxis=dict(tickmode='array', tickvals=[0,1,2,3,4,5,6], ticktext=['Monday', 'Tuesday', 'Wednesday', 'Thursday', 'Friday', 'Saturday', 'Sunday']))\n",
    "# fig.show()"
   ]
  },
  {
   "cell_type": "markdown",
   "metadata": {
    "id": "PEWqTH1QMa0a"
   },
   "source": [
    "### 3.2 MBA pour le training set (15 points)\n",
    "\n",
    "En utilisant les commandes du ``order_products__train.csv``, créez un bloc de données où chaque ligne contient la colonne ``transaction`` avec la liste des produits achetés, de manière similaire à le toy dataset. Ensuite, exécutez l'algorithme MBA pour cet ensemble de transactions.\n",
    "\n",
    "- Vous devez signaler le temps passé pour effectuer cette tâche.\n",
    "- La sortie doit contenir le nom des produits."
   ]
  },
  {
   "cell_type": "code",
   "execution_count": 18,
   "metadata": {
    "id": "vxZh_f3hMa0b"
   },
   "outputs": [
    {
     "name": "stderr",
     "output_type": "stream",
     "text": [
      "[Stage 77:=============================>                            (3 + 3) / 6]\r"
     ]
    },
    {
     "name": "stdout",
     "output_type": "stream",
     "text": [
      "+--------+--------------------+\n",
      "|order_id|         transaction|\n",
      "+--------+--------------------+\n",
      "|    1139|Cinnamon Rolls wi...|\n",
      "|    1143|Water;Natural Pre...|\n",
      "|    1342|Raw Shrimp;Seedle...|\n",
      "|    1468|Pomegranate Seeds...|\n",
      "|    1591|Cracked Wheat;Str...|\n",
      "|    1721|Organic Thompson ...|\n",
      "|    2711|Granny Smith Appl...|\n",
      "|    2888|Shredded Sharp Ch...|\n",
      "|    3179|Caramel Almond an...|\n",
      "|    4092|Organic Baby Spin...|\n",
      "|    4383|Organic Orange So...|\n",
      "|    4519|Beet Apple Carrot...|\n",
      "|    4935|               Vodka|\n",
      "|    5117|Major Dickason's ...|\n",
      "|    5433|Dairy Free Unswee...|\n",
      "|    6357|Globe Eggplant;Pa...|\n",
      "|    6552|Plain Almond Milk...|\n",
      "|    6773|Unrefined Virgin ...|\n",
      "|    7168|Dry Rubbed Thick ...|\n",
      "|    7865|Taboule Salad;Org...|\n",
      "+--------+--------------------+\n",
      "only showing top 20 rows\n",
      "\n",
      "CPU times: user 3.58 ms, sys: 671 µs, total: 4.25 ms\n",
      "Wall time: 1.41 s\n"
     ]
    },
    {
     "name": "stderr",
     "output_type": "stream",
     "text": [
      "                                                                                \r"
     ]
    }
   ],
   "source": [
    "%%time\n",
    "from pyspark.sql.functions import col, concat_ws\n",
    "\n",
    "# The name of the order's products column 'transaction' to re-use the MAP of section 1\n",
    "MBD_df_query = \"\"\"\n",
    "SELECT\n",
    "  order_prod.order_id,\n",
    "  concat_ws(\";\", collect_set(products.product_name)) AS transaction\n",
    "FROM\n",
    "  order_prod\n",
    "  LEFT JOIN products ON products.product_id = order_prod.product_id\n",
    "GROUP BY\n",
    "  order_prod.order_id\n",
    "\"\"\"\n",
    "\n",
    "MBA_df = spark.sql(MBD_df_query)\n",
    "MBA_df.show()\n"
   ]
  },
  {
   "cell_type": "code",
   "execution_count": 19,
   "metadata": {},
   "outputs": [
    {
     "name": "stderr",
     "output_type": "stream",
     "text": [
      "                                                                                \r"
     ]
    },
    {
     "name": "stdout",
     "output_type": "stream",
     "text": [
      "+--------------------+-----------+\n",
      "|            patterns|occurrences|\n",
      "+--------------------+-----------+\n",
      "|         ('Banana',)|          1|\n",
      "|('Banana', 'Butte...|          1|\n",
      "|('Banana', 'Butte...|          1|\n",
      "|('Banana', 'Butte...|          1|\n",
      "|('Banana', 'Butte...|          1|\n",
      "|('Banana', 'Butte...|          1|\n",
      "|('Banana', 'Butte...|          1|\n",
      "|('Banana', 'Butte...|          1|\n",
      "|('Banana', 'Butte...|          1|\n",
      "|('Banana', 'Cinna...|          1|\n",
      "+--------------------+-----------+\n",
      "only showing top 10 rows\n",
      "\n"
     ]
    },
    {
     "name": "stderr",
     "output_type": "stream",
     "text": [
      "[Stage 91:>                                                         (0 + 1) / 1]\r"
     ]
    },
    {
     "name": "stdout",
     "output_type": "stream",
     "text": [
      "+--------------------+--------------------+\n",
      "|            patterns|combined_occurrences|\n",
      "+--------------------+--------------------+\n",
      "|('Organic Banana'...|                   1|\n",
      "|('Crispy Wheat, C...|                   1|\n",
      "|('Honestly Health...|                   1|\n",
      "|('2% Shredded Sha...|                   1|\n",
      "|('Gluten Free Ric...|                   1|\n",
      "|('Frozen Organic ...|                   1|\n",
      "|('Limes', 'Organi...|                   4|\n",
      "|('Organic Garlic'...|                   1|\n",
      "|('30% Less Sodium...|                   1|\n",
      "|('Lemon Lime Soda...|                   2|\n",
      "+--------------------+--------------------+\n",
      "only showing top 10 rows\n",
      "\n",
      "CPU times: user 60.8 ms, sys: 31.1 ms, total: 92 ms\n",
      "Wall time: 4min 8s\n"
     ]
    },
    {
     "name": "stderr",
     "output_type": "stream",
     "text": [
      "                                                                                \r"
     ]
    }
   ],
   "source": [
    "%%time\n",
    "# MAP & REDUCE TO PATTERNS\n",
    "\n",
    "MBA_rdd = MBA_df.rdd\n",
    "MBA_patterns_rdd = MBA_rdd.flatMap(map_to_patterns)\n",
    "\n",
    "# Output as dataframe\n",
    "MBA_patterns_rdd.map(format_tuples).toDF(['patterns', 'occurrences']).show(10)\n",
    "\n",
    "MBA_combined_patterns_rdd = MBA_patterns_rdd.reduceByKey(reduce_product_by_key)\n",
    "\n",
    "# Output as dataframe\n",
    "MBA_combined_patterns_rdd.map(format_tuples).toDF(['patterns', 'combined_occurrences']).show(10)"
   ]
  },
  {
   "cell_type": "code",
   "execution_count": 20,
   "metadata": {},
   "outputs": [
    {
     "name": "stderr",
     "output_type": "stream",
     "text": [
      "                                                                                \r"
     ]
    },
    {
     "name": "stdout",
     "output_type": "stream",
     "text": [
      "+--------------------+--------------------+\n",
      "|         subpatterns|               rules|\n",
      "+--------------------+--------------------+\n",
      "|('Bag of Organic ...|          (None, 29)|\n",
      "|('Organic Black B...|('Bag of Organic ...|\n",
      "|('Bag of Organic ...|('Organic Black B...|\n",
      "|('Bag of Organic ...|('Organic Diced T...|\n",
      "|('Balsamic Vinaig...|           (None, 1)|\n",
      "|('Shredded Mild C...|('Balsamic Vinaig...|\n",
      "|('Balsamic Vinaig...|('Shredded Mild C...|\n",
      "|('Balsamic Vinaig...|('Vegetable Chick...|\n",
      "|('Carrot Squash &...|           (None, 1)|\n",
      "|('Dark Chocolate ...|('Carrot Squash &...|\n",
      "+--------------------+--------------------+\n",
      "only showing top 10 rows\n",
      "\n"
     ]
    },
    {
     "name": "stderr",
     "output_type": "stream",
     "text": [
      "[Stage 105:>                                                        (0 + 1) / 1]\r"
     ]
    },
    {
     "name": "stdout",
     "output_type": "stream",
     "text": [
      "+--------------------+--------------------+\n",
      "|         subpatterns|      combined_rules|\n",
      "+--------------------+--------------------+\n",
      "|('Blackberry Pres...|[('Organic Strawb...|\n",
      "|('Non Fat Black C...|[('Organic Hemp R...|\n",
      "|('Coconut Blended...|[('Organic Dried ...|\n",
      "|('Organic Corn St...|[('Organic Lightl...|\n",
      "|('Green Peas', 'O...|[('Whole Milk Pla...|\n",
      "|('Real Mayonnaise',)|[('Cheese Pizza R...|\n",
      "|('Chopped Organic...|[('Super Puffs Sp...|\n",
      "|('Diced Tomatoes'...|[('Greek Whole Mi...|\n",
      "|('Honey Nut Cheer...|[('Almond Non-Dai...|\n",
      "|('Almost Naked Pe...|[('Asparagus', 1)...|\n",
      "+--------------------+--------------------+\n",
      "only showing top 10 rows\n",
      "\n",
      "CPU times: user 152 ms, sys: 22.9 ms, total: 175 ms\n",
      "Wall time: 12min 20s\n"
     ]
    },
    {
     "name": "stderr",
     "output_type": "stream",
     "text": [
      "                                                                                \r"
     ]
    }
   ],
   "source": [
    "%%time\n",
    "\n",
    "# MAP & REDUCE TO SUBPATTERNS\n",
    "\n",
    "MBA_subpatterns_rdd = MBA_combined_patterns_rdd.flatMap(map_to_subpatterns)\n",
    "\n",
    "# Output as dataframe\n",
    "MBA_subpatterns_rdd.map(format_tuples).toDF(['subpatterns', 'rules']).show(10)\n",
    "\n",
    "MBA_combined_rules = MBA_subpatterns_rdd.groupByKey().mapValues(list)\n",
    "\n",
    "# Output as dataframe\n",
    "MBA_combined_rules.map(format_tuples).toDF(['subpatterns', 'combined_rules']).show(10)"
   ]
  },
  {
   "cell_type": "code",
   "execution_count": 21,
   "metadata": {},
   "outputs": [
    {
     "name": "stderr",
     "output_type": "stream",
     "text": [
      "[Stage 113:>                                                        (0 + 1) / 1]\r"
     ]
    },
    {
     "name": "stdout",
     "output_type": "stream",
     "text": [
      "+--------------------+--------------------+\n",
      "|            patterns|   association_rules|\n",
      "+--------------------+--------------------+\n",
      "|('100% Recycled P...|['Premium Fish Sa...|\n",
      "|('Organic Dill', ...|['Frozen Organic ...|\n",
      "|('Ataulfo Mango',...|['Sliced Black Ol...|\n",
      "|('Original Whole ...|['Dijon Mustard',...|\n",
      "|('Danimals Strawb...|['Bag of Organic ...|\n",
      "|('Organic Whole W...|['Organic Iceberg...|\n",
      "|('Craisins Dried ...|['Medium Roast Wh...|\n",
      "|('ALMONDBREEZE UN...|['Unsweetened Van...|\n",
      "|('Chocolate Lowfa...|['Uncured Beef Ho...|\n",
      "|('70% Dark Chocol...|['Cold-Pressed Or...|\n",
      "+--------------------+--------------------+\n",
      "only showing top 10 rows\n",
      "\n",
      "CPU times: user 36.7 ms, sys: 9.03 ms, total: 45.7 ms\n",
      "Wall time: 3min 15s\n"
     ]
    },
    {
     "name": "stderr",
     "output_type": "stream",
     "text": [
      "                                                                                \r"
     ]
    }
   ],
   "source": [
    "%%time\n",
    "\n",
    "MBA_assoc_rules = MBA_combined_rules.flatMap(map_to_assoc_rules)\n",
    "\n",
    "# Output as dataframe\n",
    "MBA_assoc_rules.map(format_tuples).toDF(['patterns', 'association_rules']).show(10)"
   ]
  },
  {
   "cell_type": "markdown",
   "metadata": {
    "id": "5DkNPEtGMa0l"
   },
   "source": [
    "# 3.3 MBA pour le dataset complet (20 points)\n",
    "\n",
    "Comme vous l'avez probablement remarqué, même pour un ensemble de données moins volumineux (le training dataset ne contient que 131 000 commandes), l'algorithme MBA est coûteux en calcul. Pour cette raison, cette fois, nous allons répéter le processus, mais en utilisant maintenant Google Cloud Platform (GCP) pour créer un grand cluster. Toutes les instructions pour créer un cluster avec spark et comment soumettre un travail seront expliquées dans le laboratoire. Dans tous les cas, vous devez lire les instructions données dans le ``Instruction_GCP.pdf``.\n",
    "\n",
    "Cette fois, nous travaillerons avec le fichier ``order_products__prior.csv``, qui contient plus de 3M commandes.\n",
    "\n",
    "**PRODUCTION ATTENDUE**\n",
    "\n",
    "Après avoir exécuté le MBA pour la plus grande collection de commandes, sélectionnez au hasard UN produit acheté dans ``order_products__prior`` et affichez les règles d'association (nom du produit et valeur d'association) de ce produit, c'est-à-dire lorsque le produit est seul dans le panier. La sortie doit être formatée dans un tableau, où chaque ligne contenant les informations d'un produit associé. \n",
    "\n",
    "- Affichez l'ID et le nom du produit sélectionné au hasard.\n",
    "- Signaler le temps d'exécution.\n",
    "\n",
    "**Remarque importante : joignez des captures d'écran de votre sortie et de votre configuration de cluster.** "
   ]
  },
  {
   "cell_type": "code",
   "execution_count": 22,
   "metadata": {},
   "outputs": [
    {
     "name": "stderr",
     "output_type": "stream",
     "text": [
      "                                                                                \r"
     ]
    },
    {
     "name": "stdout",
     "output_type": "stream",
     "text": [
      "order_products__prior.csv\n",
      "+---+--------+----------+-----------------+---------+\n",
      "|_c0|order_id|product_id|add_to_cart_order|reordered|\n",
      "+---+--------+----------+-----------------+---------+\n",
      "|  0|       2|     33120|                1|        1|\n",
      "|  1|       2|     28985|                2|        1|\n",
      "|  2|       2|      9327|                3|        0|\n",
      "|  3|       2|     45918|                4|        1|\n",
      "|  4|       2|     30035|                5|        0|\n",
      "+---+--------+----------+-----------------+---------+\n",
      "only showing top 5 rows\n",
      "\n",
      "CPU times: user 9.47 ms, sys: 207 µs, total: 9.67 ms\n",
      "Wall time: 2.56 s\n"
     ]
    }
   ],
   "source": [
    "%%time\n",
    "df_order_prior = spark.read.csv(bucket_path + 'instacart/order_products__prior.csv', header=True, sep=',', inferSchema=True)\n",
    "print('order_products__prior.csv')\n",
    "df_order_prior.show(5)\n",
    "\n",
    "df_order_prior.createOrReplaceTempView(\"order_prior\") # creates table 'order_prior'"
   ]
  },
  {
   "cell_type": "code",
   "execution_count": 23,
   "metadata": {},
   "outputs": [
    {
     "name": "stderr",
     "output_type": "stream",
     "text": [
      "[Stage 118:============================>                            (4 + 4) / 8]\r"
     ]
    },
    {
     "name": "stdout",
     "output_type": "stream",
     "text": [
      "+--------+--------------------+\n",
      "|order_id|         transaction|\n",
      "+--------+--------------------+\n",
      "|      26|Organic Baby Spin...|\n",
      "|      27|Firm Tofu;Parchme...|\n",
      "|      28|Original Semisoft...|\n",
      "|      31|Organic Cilantro;...|\n",
      "|      44|French Onion Dip;...|\n",
      "|      53|Organic Original ...|\n",
      "|      65|Soy Sauce;Organic...|\n",
      "|      76|Grape Tomatoes;Se...|\n",
      "|      78|Roasted Pine Nut ...|\n",
      "|      81|Sliced Baby Bella...|\n",
      "|      85|Miniatures;Green ...|\n",
      "|     101|Organic Baby Arug...|\n",
      "|     103|House Blend Deep ...|\n",
      "|     108|Thin Sliced Ameri...|\n",
      "|     115|Marinara Sauce;Wi...|\n",
      "|     126|Vanilla Whey Prot...|\n",
      "|     133|Organic Garnet Sw...|\n",
      "|     148|Organic Baby Spin...|\n",
      "|     155|Premium Pure Cane...|\n",
      "|     159|Organic Baby Arug...|\n",
      "+--------+--------------------+\n",
      "only showing top 20 rows\n",
      "\n",
      "CPU times: user 8.09 ms, sys: 0 ns, total: 8.09 ms\n",
      "Wall time: 3.15 s\n"
     ]
    },
    {
     "name": "stderr",
     "output_type": "stream",
     "text": [
      "                                                                                \r"
     ]
    }
   ],
   "source": [
    "%%time\n",
    "# The name of the order's products column 'transaction' to re-use the MAP of section 1\n",
    "FULL_MBD_df_query = \"\"\"\n",
    "SELECT\n",
    "  order_prior.order_id,\n",
    "  concat_ws(\";\", collect_set(products.product_name)) AS transaction\n",
    "FROM\n",
    "  order_prior\n",
    "  LEFT JOIN products ON products.product_id = order_prior.product_id\n",
    "GROUP BY\n",
    "  order_prior.order_id\n",
    "\"\"\"\n",
    "\n",
    "FULL_MBA_df = spark.sql(FULL_MBD_df_query)\n",
    "FULL_MBA_df.show()"
   ]
  },
  {
   "cell_type": "code",
   "execution_count": 24,
   "metadata": {
    "id": "X1cVWxraMa0l"
   },
   "outputs": [
    {
     "name": "stderr",
     "output_type": "stream",
     "text": [
      "[Stage 122:=================================================>       (7 + 1) / 8]\r"
     ]
    },
    {
     "name": "stdout",
     "output_type": "stream",
     "text": [
      "CPU times: user 8.37 ms, sys: 8.87 ms, total: 17.2 ms\n",
      "Wall time: 2.95 s\n"
     ]
    }
   ],
   "source": [
    "%%time\n",
    "# Rouler l'analyses MBA au complet avant sans les affichage\n",
    "\n",
    "FULL_MBA_rdd = FULL_MBA_df.rdd\n",
    "\n",
    "# Map & reduce patterns\n",
    "FULL_MBA_patterns_rdd = FULL_MBA_rdd.flatMap(map_to_patterns)\n",
    "FULL_MBA_combined_patterns_rdd = FULL_MBA_patterns_rdd.reduceByKey(reduce_product_by_key)\n",
    "\n",
    "# Map & reduce to subpatterns\n",
    "FULL_MBA_subpatterns_rdd = FULL_MBA_combined_patterns_rdd.flatMap(map_to_subpatterns)\n",
    "FULL_MBA_combined_rules = FULL_MBA_subpatterns_rdd.groupByKey().mapValues(list)\n",
    "\n",
    "# Combine association rules\n",
    "FULL_MBA_assoc_rules = FULL_MBA_combined_rules.flatMap(map_to_assoc_rules)"
   ]
  },
  {
   "cell_type": "code",
   "execution_count": 25,
   "metadata": {
    "id": "MVBQ12b2Ma0o"
   },
   "outputs": [],
   "source": [
    "%%time\n",
    "# Show patterns\n",
    "FULL_MBA_patterns_rdd.map(format_tuples).toDF(['patterns', 'occurrences']).show(10)\n",
    "FULL_MBA_combined_patterns_rdd.map(format_tuples).toDF(['patterns', 'combined_occurrences']).show(10)\n",
    "\n",
    "# Show subpatterns\n",
    "FULL_MBA_subpatterns_rdd.map(format_tuples).toDF(['subpatterns', 'rules']).show(10)\n",
    "FULL_MBA_combined_rules.map(format_tuples).toDF(['subpatterns', 'combined_rules']).show(10)\n",
    "\n",
    "# Show association rules\n",
    "FULL_MBA_assoc_rules.map(format_tuples).toDF(['patterns', 'association_rules']).show(10)"
   ]
  },
  {
   "cell_type": "code",
   "execution_count": null,
   "metadata": {},
   "outputs": [],
   "source": []
  },
  {
   "cell_type": "markdown",
   "metadata": {},
   "source": [
    "## With one single product"
   ]
  },
  {
   "cell_type": "code",
   "execution_count": 56,
   "metadata": {},
   "outputs": [
    {
     "name": "stderr",
     "output_type": "stream",
     "text": [
      "[Stage 219:=========>                                               (1 + 5) / 6]\r"
     ]
    },
    {
     "name": "stdout",
     "output_type": "stream",
     "text": [
      "+--------+----------+------------+\n",
      "|order_id|product_id| transaction|\n",
      "+--------+----------+------------+\n",
      "| 3368469|      8069|Rice Vinegar|\n",
      "+--------+----------+------------+\n",
      "\n"
     ]
    },
    {
     "name": "stderr",
     "output_type": "stream",
     "text": [
      "                                                                                \r"
     ]
    }
   ],
   "source": [
    "from random import randint \n",
    "\n",
    "ord_df = spark.sql(\n",
    "\"\"\"\n",
    "SELECT order_prod.order_id, products.product_id, concat_ws(\";\", collect_set(products.product_name)) AS transaction \n",
    "  FROM order_prod\n",
    "  INNER JOIN products ON products.product_id = order_prod.product_id\n",
    "  GROUP BY order_prod.order_id, products.product_id \n",
    "  ORDER BY Rand() LIMIT 1\n",
    "\"\"\"\n",
    ")\n",
    "\n",
    "ord_df.show(5, truncate=100)"
   ]
  },
  {
   "cell_type": "code",
   "execution_count": 57,
   "metadata": {},
   "outputs": [
    {
     "name": "stderr",
     "output_type": "stream",
     "text": [
      "[Stage 224:============================>                            (3 + 3) / 6]\r"
     ]
    },
    {
     "name": "stdout",
     "output_type": "stream",
     "text": [
      "Rice Vinegar\n",
      "CPU times: user 9.13 ms, sys: 1.44 ms, total: 10.6 ms\n",
      "Wall time: 2.18 s\n"
     ]
    },
    {
     "name": "stderr",
     "output_type": "stream",
     "text": [
      "                                                                                \r"
     ]
    }
   ],
   "source": [
    "%%time\n",
    "product_name = ord_df.select('transaction').collect()[0].transaction\n",
    "print(product_name)"
   ]
  },
  {
   "cell_type": "code",
   "execution_count": null,
   "metadata": {},
   "outputs": [
    {
     "name": "stderr",
     "output_type": "stream",
     "text": [
      "[Stage 235:>                                                        (0 + 9) / 9]\r"
     ]
    }
   ],
   "source": [
    "%%time\n",
    "res = FULL_MBA_assoc_rules.filter(lambda x: len(x[0]) == 1 and x[0][0] == product_name).map(format_tuples).toDF(['patterns', 'association_rules'])\n",
    "res.show(truncate=300)"
   ]
  },
  {
   "cell_type": "markdown",
   "metadata": {},
   "source": [
    "## Screenshots "
   ]
  },
  {
   "cell_type": "markdown",
   "metadata": {},
   "source": [
    "### Configuration du cluster"
   ]
  },
  {
   "cell_type": "markdown",
   "metadata": {},
   "source": [
    "![cluster_config_1](screenshots/cluster_config_1.png)"
   ]
  },
  {
   "cell_type": "markdown",
   "metadata": {},
   "source": [
    "![cluster_config_2](screenshots/cluster_config_2.png)"
   ]
  },
  {
   "cell_type": "markdown",
   "metadata": {},
   "source": [
    "![cluster_config_3](screenshots/cluster_config_3.png)"
   ]
  },
  {
   "cell_type": "markdown",
   "metadata": {},
   "source": [
    "### Sorties"
   ]
  },
  {
   "cell_type": "markdown",
   "metadata": {},
   "source": [
    "![output_1](screenshots/output1.png)"
   ]
  },
  {
   "cell_type": "markdown",
   "metadata": {},
   "source": [
    "![output_2](screenshots/output2.png)"
   ]
  },
  {
   "cell_type": "markdown",
   "metadata": {},
   "source": [
    "![output_3](screenshots/output3.png)"
   ]
  },
  {
   "cell_type": "markdown",
   "metadata": {},
   "source": [
    "![output_4](screenshots/output4.png)"
   ]
  },
  {
   "cell_type": "markdown",
   "metadata": {},
   "source": [
    "![output_5](screenshots/output5.png)"
   ]
  },
  {
   "cell_type": "markdown",
   "metadata": {},
   "source": [
    "### Produit seul"
   ]
  },
  {
   "cell_type": "markdown",
   "metadata": {},
   "source": [
    "![output_single_prod_1](screenshots/output_single_prod_1.png)"
   ]
  },
  {
   "cell_type": "markdown",
   "metadata": {},
   "source": [
    "![output_single_prod_2](screenshots/output_single_prod_2.png)"
   ]
  },
  {
   "cell_type": "code",
   "execution_count": null,
   "metadata": {},
   "outputs": [],
   "source": []
  }
 ],
 "metadata": {
  "colab": {
   "collapsed_sections": [],
   "name": "tp2.ipynb",
   "provenance": []
  },
  "kernelspec": {
   "display_name": "Python 3 (ipykernel)",
   "language": "python",
   "name": "python3"
  },
  "language_info": {
   "codemirror_mode": {
    "name": "ipython",
    "version": 3
   },
   "file_extension": ".py",
   "mimetype": "text/x-python",
   "name": "python",
   "nbconvert_exporter": "python",
   "pygments_lexer": "ipython3",
   "version": "3.9.13"
  }
 },
 "nbformat": 4,
 "nbformat_minor": 4
}
