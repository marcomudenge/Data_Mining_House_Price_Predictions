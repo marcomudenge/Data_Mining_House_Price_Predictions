{
  "nbformat": 4,
  "nbformat_minor": 0,
  "metadata": {
    "colab": {
      "name": "Notebook - Performance.ipynb",
      "provenance": [],
      "collapsed_sections": []
    },
    "kernelspec": {
      "name": "python3",
      "display_name": "Python 3"
    }
  },
  "cells": [
    {
      "cell_type": "markdown",
      "metadata": {
        "id": "-Xlf3M-nHx2p"
      },
      "source": [
        "# Workshop: Performance\n",
        "\n",
        "#### Descripition\n",
        "This workshop aims to present how to efficiently code in Python.\n",
        "\n",
        "**Course**: INF8111 - Fouille de données (Fall 2020)\n",
        "\n",
        "**Author**: Quentin Fournier\n",
        "\n",
        "**Inspired by**: [Towards Data Science](https://towardsdatascience.com/ten-tricks-to-speed-up-your-python-codes-c38abdb89f18), [Wiki](https://wiki.python.org/moin/PythonSpeed/PerformanceTips#Avoiding_dots...), [Cookbook on Numpy](https://ipython-books.github.io/45-understanding-the-internals-of-numpy-to-avoid-unnecessary-array-copying/)"
      ]
    },
    {
      "cell_type": "markdown",
      "metadata": {
        "id": "6iZkB4B6NHa0"
      },
      "source": [
        "# Exemple 1 - Loop, List Comprehension, and Built-in Function"
      ]
    },
    {
      "cell_type": "code",
      "metadata": {
        "id": "6KNnVm6nHoVe",
        "outputId": "1e8bb8f4-4a0e-4dd5-d8a1-0d67b0d9064b",
        "colab": {
          "base_uri": "https://localhost:8080/",
          "height": 54
        }
      },
      "source": [
        "%%timeit -n10\n",
        "\n",
        "# Create a list with all integer from 0 to 999 999 using a for loop\n",
        "x = []\n",
        "for i in range(1000000):\n",
        "  x.append(i)"
      ],
      "execution_count": 1,
      "outputs": [
        {
          "output_type": "stream",
          "text": [
            "10 loops, best of 3: 103 ms per loop\n"
          ],
          "name": "stdout"
        }
      ]
    },
    {
      "cell_type": "code",
      "metadata": {
        "id": "Fu0vZYKbKUQR",
        "outputId": "35fa964b-f342-4ff9-82d7-70d0b61dee9b",
        "colab": {
          "base_uri": "https://localhost:8080/",
          "height": 54
        }
      },
      "source": [
        "%%timeit -n10\n",
        "\n",
        "# List comprehension (elegant and faster)\n",
        "x = [i for i in range(1000000)]"
      ],
      "execution_count": 2,
      "outputs": [
        {
          "output_type": "stream",
          "text": [
            "10 loops, best of 3: 65.5 ms per loop\n"
          ],
          "name": "stdout"
        }
      ]
    },
    {
      "cell_type": "code",
      "metadata": {
        "id": "PyYMArOLKz36",
        "outputId": "f6b128af-cbd5-4c1b-826f-2e9cd1847fb1",
        "colab": {
          "base_uri": "https://localhost:8080/",
          "height": 54
        }
      },
      "source": [
        "%%timeit -n10\n",
        "\n",
        "# Built-in function are always better\n",
        "x = list(range(1000000))"
      ],
      "execution_count": 3,
      "outputs": [
        {
          "output_type": "stream",
          "text": [
            "10 loops, best of 3: 38.9 ms per loop\n"
          ],
          "name": "stdout"
        }
      ]
    },
    {
      "cell_type": "markdown",
      "metadata": {
        "id": "u_DIWe5jOsK2"
      },
      "source": [
        "# Exemple 2 - Loop, List Comprehension, and Function Call"
      ]
    },
    {
      "cell_type": "code",
      "metadata": {
        "id": "PR7XeeWKOwXV"
      },
      "source": [
        "data = list(range(100000))"
      ],
      "execution_count": 4,
      "outputs": []
    },
    {
      "cell_type": "code",
      "metadata": {
        "id": "cFGdElX6OwQo",
        "outputId": "f25d34dd-9f3a-433f-b012-2b5f9085b246",
        "colab": {
          "base_uri": "https://localhost:8080/",
          "height": 54
        }
      },
      "source": [
        "%%timeit -n10\n",
        "\n",
        "# Function that works on an integer\n",
        "def fct(x):\n",
        "  return x ** 2\n",
        "\n",
        "# For loop that calls the function multiple times\n",
        "y = []\n",
        "for x in data:\n",
        "  y.append(fct(x))"
      ],
      "execution_count": 5,
      "outputs": [
        {
          "output_type": "stream",
          "text": [
            "10 loops, best of 3: 39.1 ms per loop\n"
          ],
          "name": "stdout"
        }
      ]
    },
    {
      "cell_type": "code",
      "metadata": {
        "id": "3Cf4qzyhOwLu",
        "outputId": "66f11ac2-bf36-4931-cd9b-590eb63f7cf1",
        "colab": {
          "base_uri": "https://localhost:8080/",
          "height": 54
        }
      },
      "source": [
        "%%timeit -n10\n",
        "\n",
        "# Function that works on an integer\n",
        "def fct(x):\n",
        "  return x ** 2\n",
        "\n",
        "# List comprehension that calls the function multiple times\n",
        "y = [fct(x) for x in data]"
      ],
      "execution_count": 6,
      "outputs": [
        {
          "output_type": "stream",
          "text": [
            "10 loops, best of 3: 36.8 ms per loop\n"
          ],
          "name": "stdout"
        }
      ]
    },
    {
      "cell_type": "code",
      "metadata": {
        "id": "qyE1pQ0fOv8j",
        "outputId": "79f65f01-6485-4fb8-da29-1cbb31bfa94f",
        "colab": {
          "base_uri": "https://localhost:8080/",
          "height": 54
        }
      },
      "source": [
        "%%timeit -n10\n",
        "\n",
        "# Function that works on a list using a for loop\n",
        "def fct(data):\n",
        "  y = []\n",
        "  for x in data:\n",
        "    y.append(x ** 2)\n",
        "  return y\n",
        "\n",
        "# The function is called only once\n",
        "y = fct(data)"
      ],
      "execution_count": 7,
      "outputs": [
        {
          "output_type": "stream",
          "text": [
            "10 loops, best of 3: 32.2 ms per loop\n"
          ],
          "name": "stdout"
        }
      ]
    },
    {
      "cell_type": "code",
      "metadata": {
        "id": "RAt5VhWuPdHa",
        "outputId": "befab95c-0858-4ebc-8d8e-ca9fd46f72f4",
        "colab": {
          "base_uri": "https://localhost:8080/",
          "height": 54
        }
      },
      "source": [
        "%%timeit -n10\n",
        "\n",
        "# Function that works on a list using list comprehension\n",
        "def fct(data):\n",
        "  return [x ** 2 for x in data]\n",
        "\n",
        "# The function is called only once\n",
        "y = fct(data)"
      ],
      "execution_count": 8,
      "outputs": [
        {
          "output_type": "stream",
          "text": [
            "10 loops, best of 3: 28.2 ms per loop\n"
          ],
          "name": "stdout"
        }
      ]
    },
    {
      "cell_type": "code",
      "metadata": {
        "id": "oS_AdShWPc3D",
        "outputId": "dcd0597a-f409-4b51-8a70-876a5c0db20c",
        "colab": {
          "base_uri": "https://localhost:8080/",
          "height": 54
        }
      },
      "source": [
        "# List comprehension (the function was not useful)\n",
        "%timeit -n10 y = [x ** 2 for x in data]"
      ],
      "execution_count": 9,
      "outputs": [
        {
          "output_type": "stream",
          "text": [
            "10 loops, best of 3: 28.3 ms per loop\n"
          ],
          "name": "stdout"
        }
      ]
    },
    {
      "cell_type": "markdown",
      "metadata": {
        "id": "lzG5TAjIQ-qL"
      },
      "source": [
        "# Exemple 3 - Enumerate, Zip, and Map"
      ]
    },
    {
      "cell_type": "code",
      "metadata": {
        "id": "1oHeJQXiRFKr"
      },
      "source": [
        "data = ['a', 'b', 'c']\n",
        "value = [12, 643, 123, 687, 213]"
      ],
      "execution_count": 10,
      "outputs": []
    },
    {
      "cell_type": "code",
      "metadata": {
        "id": "P6rvn7AfRGKP",
        "outputId": "dcf4cdfc-98d3-42ea-82da-7468952a139f",
        "colab": {
          "base_uri": "https://localhost:8080/",
          "height": 87
        }
      },
      "source": [
        "# Print data with the index (manually) \n",
        "i = 0\n",
        "for d in data:\n",
        "  print('({}) {}'.format(i, d))\n",
        "  i += 1"
      ],
      "execution_count": 11,
      "outputs": [
        {
          "output_type": "stream",
          "text": [
            "(0) a\n",
            "(1) b\n",
            "(2) c\n"
          ],
          "name": "stdout"
        }
      ]
    },
    {
      "cell_type": "code",
      "metadata": {
        "id": "xKDibPmbRGG5",
        "outputId": "f593d71a-8533-4e63-f8a1-b257a789861c",
        "colab": {
          "base_uri": "https://localhost:8080/",
          "height": 87
        }
      },
      "source": [
        "# Print data with the index (enumerate) \n",
        "for i, d in enumerate(data):\n",
        "  print('({}) {}'.format(i, d))"
      ],
      "execution_count": 12,
      "outputs": [
        {
          "output_type": "stream",
          "text": [
            "(0) a\n",
            "(1) b\n",
            "(2) c\n"
          ],
          "name": "stdout"
        }
      ]
    },
    {
      "cell_type": "code",
      "metadata": {
        "id": "kZ7Mab9uRF4L",
        "outputId": "66d1884f-fd3e-4534-aff2-cfbe35f07159",
        "colab": {
          "base_uri": "https://localhost:8080/",
          "height": 87
        }
      },
      "source": [
        "# Go through two or more lists at the same time\n",
        "for i, (d, v) in enumerate(zip(data, value)):\n",
        "  print('({}) {} : {}'.format(i, d, v))"
      ],
      "execution_count": 13,
      "outputs": [
        {
          "output_type": "stream",
          "text": [
            "(0) a : 12\n",
            "(1) b : 643\n",
            "(2) c : 123\n"
          ],
          "name": "stdout"
        }
      ]
    },
    {
      "cell_type": "code",
      "metadata": {
        "id": "LQUUTAH_RFyG",
        "outputId": "b346069f-2de7-401b-cc88-7a977dc7c7e0",
        "colab": {
          "base_uri": "https://localhost:8080/",
          "height": 54
        }
      },
      "source": [
        "# Matrix with 3 lines, and 2 columns\n",
        "matrix = [[1, 2], [3, 4], [5, 6]]\n",
        "print(matrix)"
      ],
      "execution_count": 14,
      "outputs": [
        {
          "output_type": "stream",
          "text": [
            "[[1, 2], [3, 4], [5, 6]]\n"
          ],
          "name": "stdout"
        }
      ]
    },
    {
      "cell_type": "code",
      "metadata": {
        "id": "kvyVXFUBRFqt",
        "outputId": "552b992e-c573-4c07-d002-f591dbb8dc3b",
        "colab": {
          "base_uri": "https://localhost:8080/",
          "height": 54
        }
      },
      "source": [
        "# Transpose the matrix in pure Pyhton\n",
        "matrix_transpose = list(map(list, zip(*matrix)))\n",
        "print(matrix_transpose)"
      ],
      "execution_count": 15,
      "outputs": [
        {
          "output_type": "stream",
          "text": [
            "[[1, 3, 5], [2, 4, 6]]\n"
          ],
          "name": "stdout"
        }
      ]
    },
    {
      "cell_type": "code",
      "metadata": {
        "id": "Z7WyinjsRFhH",
        "outputId": "66ff1a52-7d79-4662-b992-29a1d0b1476a",
        "colab": {
          "base_uri": "https://localhost:8080/",
          "height": 286
        }
      },
      "source": [
        "# Step-by-step\n",
        "print('matrix:')\n",
        "print(matrix)\n",
        "print('\\nUnpacked matrix *matrix:')\n",
        "print(*matrix)\n",
        "print(matrix[0], matrix[1], matrix[2])\n",
        "print('\\nZiped unpacked matrix zip(*matrix):')\n",
        "print(zip(*matrix))\n",
        "print('\\nWe need to convert the object in a list list(zip(*matrix)):')\n",
        "print(list(zip(*matrix)))\n",
        "print('\\nZiped unpacked matrix (list(map(list, zip(*matrix)))):')\n",
        "print(list(map(list, zip(*matrix))))"
      ],
      "execution_count": 16,
      "outputs": [
        {
          "output_type": "stream",
          "text": [
            "matrix:\n",
            "[[1, 2], [3, 4], [5, 6]]\n",
            "\n",
            "Unpacked matrix *matrix:\n",
            "[1, 2] [3, 4] [5, 6]\n",
            "[1, 2] [3, 4] [5, 6]\n",
            "\n",
            "Ziped unpacked matrix zip(*matrix):\n",
            "<zip object at 0x7f5353c9cbc8>\n",
            "\n",
            "We need to convert the object in a list list(zip(*matrix)):\n",
            "[(1, 3, 5), (2, 4, 6)]\n",
            "\n",
            "Ziped unpacked matrix (list(map(list, zip(*matrix)))):\n",
            "[[1, 3, 5], [2, 4, 6]]\n"
          ],
          "name": "stdout"
        }
      ]
    },
    {
      "cell_type": "markdown",
      "metadata": {
        "id": "oH1A7sJCKgZ9"
      },
      "source": [
        "# Exemple 4 - Generator"
      ]
    },
    {
      "cell_type": "code",
      "metadata": {
        "id": "ZNAS4eN3Kk8y"
      },
      "source": [
        "import itertools\n",
        "\n",
        "# Function that returns the list of squared values\n",
        "def function(data):\n",
        "  return [x**2 for x in data]\n",
        "\n",
        "# Function that yields the squared values\n",
        "def generator(data):\n",
        "  for x in data:\n",
        "    yield x**2"
      ],
      "execution_count": 17,
      "outputs": []
    },
    {
      "cell_type": "code",
      "metadata": {
        "id": "WmS-HXEGK_FA",
        "outputId": "37673da5-6e7d-4a0e-d72e-2eeabf922fe4",
        "colab": {
          "base_uri": "https://localhost:8080/",
          "height": 54
        }
      },
      "source": [
        "# a is instanciated in memory\n",
        "data = range(1000000)\n",
        "%timeit -n10 a = function(data)"
      ],
      "execution_count": 18,
      "outputs": [
        {
          "output_type": "stream",
          "text": [
            "10 loops, best of 3: 298 ms per loop\n"
          ],
          "name": "stdout"
        }
      ]
    },
    {
      "cell_type": "code",
      "metadata": {
        "id": "BX9JKAcaLL7w",
        "outputId": "e7252f55-3a9e-4026-c480-eae95d60cc31",
        "colab": {
          "base_uri": "https://localhost:8080/",
          "height": 54
        }
      },
      "source": [
        "# b is NOT instanciated in memory, so almost no time required\n",
        "data = range(1000000)\n",
        "%timeit -n10 b = generator(data)"
      ],
      "execution_count": 19,
      "outputs": [
        {
          "output_type": "stream",
          "text": [
            "10 loops, best of 3: 224 ns per loop\n"
          ],
          "name": "stdout"
        }
      ]
    },
    {
      "cell_type": "code",
      "metadata": {
        "id": "ejzA2MwCLqwy",
        "outputId": "0f867b5a-269a-42f2-fc82-97af665502cb",
        "colab": {
          "base_uri": "https://localhost:8080/",
          "height": 54
        }
      },
      "source": [
        "# b is not a list but a generator\n",
        "b = generator(data)\n",
        "print(b)"
      ],
      "execution_count": 20,
      "outputs": [
        {
          "output_type": "stream",
          "text": [
            "<generator object generator at 0x7f5353c976d0>\n"
          ],
          "name": "stdout"
        }
      ]
    },
    {
      "cell_type": "code",
      "metadata": {
        "id": "9-d-7NjWLyZz",
        "outputId": "3bb81fa1-dc08-48cd-b679-dfb054671494",
        "colab": {
          "base_uri": "https://localhost:8080/",
          "height": 54
        }
      },
      "source": [
        "%%timeit -n10\n",
        "\n",
        "# The list a is computed entirely, even if 5 values are needed\n",
        "a = function(data)\n",
        "for x in a[:5]:\n",
        "  print(x, end='\\r')"
      ],
      "execution_count": 21,
      "outputs": [
        {
          "output_type": "stream",
          "text": [
            "10 loops, best of 3: 308 ms per loop\n"
          ],
          "name": "stdout"
        }
      ]
    },
    {
      "cell_type": "code",
      "metadata": {
        "id": "XiR4b956TsGq",
        "outputId": "f902ca2e-90bf-459f-955e-f4927693a3df",
        "colab": {
          "base_uri": "https://localhost:8080/",
          "height": 71
        }
      },
      "source": [
        "%%timeit -n100\n",
        "\n",
        "# With a generator, values are computed when needed\n",
        "b = generator(data)\n",
        "i = 0\n",
        "for i, x in enumerate(b):\n",
        "  if i > 4:\n",
        "    break\n",
        "  print(x, end='\\r')"
      ],
      "execution_count": 22,
      "outputs": [
        {
          "output_type": "stream",
          "text": [
            "0\r1\r4\r9\r16\r0\r1\r4\r9\r16\r0\r1\r4\r9\r16\r0\r1\r4\r9\r16\r0\r1\r4\r9\r16\r0\r1\r4\r9\r16\r0\r1\r4\r9\r16\r0\r1\r4\r9\r16\r0\r1\r4\r9\r16\r0\r1\r4\r9\r16\r0\r1\r4\r9\r16\r0\r1\r4\r9\r16\r0\r1\r4\r9\r16\r0\r1\r4\r9\r16\r0\r1\r4\r9\r16\r0\r1\r4\r9\r16\r0\r1\r4\r9\r16\r0\r1\r4\r9\r16\r0\r1\r4\r9\r16\r0\r1\r4\r9\r16\r0\r1\r4\r9\r16\r0\r1\r4\r9\r16\r0\r1\r4\r9\r16\r0\r1\r4\r9\r16\r0\r1\r4\r9\r16\r0\r1\r4\r9\r16\r0\r1\r4\r9\r16\r0\r1\r4\r9\r16\r0\r1\r4\r9\r16\r0\r1\r4\r9\r16\r0\r1\r4\r9\r16\r0\r1\r4\r9\r16\r0\r1\r4\r9\r16\r0\r1\r4\r9\r16\r0\r1\r4\r9\r16\r0\r1\r4\r9\r16\r0\r1\r4\r9\r16\r0\r1\r4\r9\r16\r0\r1\r4\r9\r16\r0\r1\r4\r9\r16\r0\r1\r4\r9\r16\r0\r1\r4\r9\r16\r0\r1\r4\r9\r16\r0\r1\r4\r9\r16\r0\r1\r4\r9\r16\r0\r1\r4\r9\r16\r0\r1\r4\r9\r16\r0\r1\r4\r9\r16\r0\r1\r4\r9\r16\r0\r1\r4\r9\r16\r0\r1\r4\r9\r16\r0\r1\r4\r9\r16\r0\r1\r4\r9\r16\r0\r1\r4\r9\r16\r0\r1\r4\r9\r16\r0\r1\r4\r9\r16\r0\r1\r4\r9\r16\r0\r1\r4\r9\r16\r0\r1\r4\r9\r16\r0\r1\r4\r9\r16\r0\r1\r4\r9\r16\r0\r1\r4\r9\r16\r0\r1\r4\r9\r16\r0\r1\r4\r9\r16\r0\r1\r4\r9\r16\r0\r1\r4\r9\r16\r0\r1\r4\r9\r16\r0\r1\r4\r9\r16\r0\r1\r4\r9\r16\r0\r1\r4\r9\r16\r0\r1\r4\r9\r16\r0\r1\r4\r9\r16\r0\r1\r4\r9\r16\r0\r1\r4\r9\r16\r0\r1\r4\r9\r16\r0\r1\r4\r9\r16\r0\r1\r4\r9\r16\r0\r1\r4\r9\r16\r0\r1\r4\r9\r16\r0\r1\r4\r9\r16\r0\r1\r4\r9\r16\r0\r1\r4\r9\r16\r0\r1\r4\r9\r16\r0\r1\r4\r9\r16\r0\r1\r4\r9\r16\r0\r1\r4\r9\r16\r0\r1\r4\r9\r16\r0\r1\r4\r9\r16\r0\r1\r4\r9\r16\r0\r1\r4\r9\r16\r0\r1\r4\r9\r16\r0\r1\r4\r9\r16\r0\r1\r4\r9\r16\r0\r1\r4\r9\r16\r0\r1\r4\r9\r16\r0\r1\r4\r9\r16\r0\r1\r4\r9\r16\r0\r1\r4\r9\r16\r0\r1\r4\r9\r16\r0\r1\r4\r9\r16\r0\r1\r4\r9\r16\r0\r1\r4\r9\r16\r0\r1\r4\r9\r16\r0\r1\r4\r9\r16\r0\r1\r4\r9\r16\r0\r1\r4\r9\r16\r0\r1\r4\r9\r16\r0\r1\r4\r9\r16\r0\r1\r4\r9\r16\r0\r1\r4\r9\r16\r0\r1\r4\r9\r16\r0\r1\r4\r9\r16\r0\r1\r4\r9\r16\r0\r1\r4\r9\r16\r0\r1\r4\r9\r16\r0\r1\r4\r9\r16\r0\r1\r4\r9\r16\r0\r1\r4\r9\r16\r0\r1\r4\r9\r16\r0\r1\r4\r9\r16\r0\r1\r4\r9\r16\r0\r1\r4\r9\r16\r0\r1\r4\r9\r16\r0\r1\r4\r9\r16\r0\r1\r4\r9\r16\r0\r1\r4\r9\r16\r0\r1\r4\r9\r16\r0\r1\r4\r9\r16\r0\r1\r4\r9\r16\r0\r1\r4\r9\r16\r0\r1\r4\r9\r16\r0\r1\r4\r9\r16\r0\r1\r4\r9\r16\r0\r1\r4\r9\r16\r0\r1\r4\r9\r16\r0\r1\r4\r9\r16\r0\r1\r4\r9\r16\r0\r1\r4\r9\r16\r0\r1\r4\r9\r16\r0\r1\r4\r9\r16\r0\r1\r4\r9\r16\r0\r1\r4\r9\r16\r0\r1\r4\r9\r16\r0\r1\r4\r9\r16\r0\r1\r4\r9\r16\r0\r1\r4\r9\r16\r0\r1\r4\r9\r16\r0\r1\r4\r9\r16\r0\r1\r4\r9\r16\r0\r1\r4\r9\r16\r0\r1\r4\r9\r16\r0\r1\r4\r9\r16\r0\r1\r4\r9\r16\r0\r1\r4\r9\r16\r0\r1\r4\r9\r16\r0\r1\r4\r9\r16\r0\r1\r4\r9\r16\r0\r1\r4\r9\r16\r0\r1\r4\r9\r16\r0\r1\r4\r9\r16\r0\r1\r4\r9\r16\r0\r1\r4\r9\r16\r0\r1\r4\r9\r16\r0\r1\r4\r9\r16\r0\r1\r4\r9\r16\r0\r1\r4\r9\r16\r0\r1\r4\r9\r16\r0\r1\r4\r9\r16\r0\r1\r4\r9\r16\r0\r1\r4\r9\r16\r0\r1\r4\r9\r16\r0\r1\r4\r9\r16\r0\r1\r4\r9\r16\r0\r1\r4\r9\r16\r0\r1\r4\r9\r16\r0\r1\r4\r9\r16\r0\r1\r4\r9\r16\r0\r1\r4\r9\r16\r0\r1\r4\r9\r16\r0\r1\r4\r9\r16\r0\r1\r4\r9\r16\r0\r1\r4\r9\r16\r0\r1\r4\r9\r16\r0\r1\r4\r9\r16\r0\r1\r4\r9\r16\r0\r1\r4\r9\r16\r0\r1\r4\r9\r16\r0\r1\r4\r9\r16\r0\r1\r4\r9\r16\r0\r1\r4\r9\r16\r0\r1\r4\r9\r16\r0\r1\r4\r9\r16\r0\r1\r4\r9\r16\r0\r1\r4\r9\r16\r0\r1\r4\r9\r16\r0\r1\r4\r9\r16\r0\r1\r4\r9\r16\r0\r1\r4\r9\r16\r0\r1\r4\r9\r16\r0\r1\r4\r9\r16\r0\r1\r4\r9\r16\r0\r1\r4\r9\r16\r0\r1\r4\r9\r16\r0\r1\r4\r9\r16\r0\r1\r4\r9\r16\r0\r1\r4\r9\r16\r0\r1\r4\r9\r16\r0\r1\r4\r9\r16\r0\r1\r4\r9\r16\r0\r1\r4\r9\r16\r0\r1\r4\r9\r16\r0\r1\r4\r9\r16\r0\r1\r4\r9\r16\r0\r1\r4\r9\r16\r0\r1\r4\r9\r16\r0\r1\r4\r9\r16\r0\r1\r4\r9\r16\r0\r1\r4\r9\r16\r0\r1\r4\r9\r16\r0\r1\r4\r9\r16\r0\r1\r4\r9\r16\r0\r1\r4\r9\r16\r0\r1\r4\r9\r16\r0\r1\r4\r9\r16\r0\r1\r4\r9\r16\r0\r1\r4\r9\r16\r0\r1\r4\r9\r16\r0\r1\r4\r9\r16\r0\r1\r4\r9\r16\r0\r1\r4\r9\r16\r0\r1\r4\r9\r16\r0\r1\r4\r9\r16\r0\r1\r4\r9\r16\r0\r1\r4\r9\r16\r0\r1\r4\r9\r16\r0\r1\r4\r9\r16\r0\r1\r4\r9\r16\r0\r1\r4\r9\r16\r0\r1\r4\r9\r16\r0\r1\r4\r9\r16\r0\r1\r4\r9\r16\r0\r1\r4\r9\r16\r0\r1\r4\r9\r16\r0\r1\r4\r9\r16\r0\r1\r4\r9\r16\r0\r1\r4\r9\r16\r0\r1\r4\r9\r16\r0\r1\r4\r9\r16\r0\r1\r4\r9\r16\r0\r1\r4\r9\r16\r0\r1\r4\r9\r16\r0\r1\r4\r9\r16\r0\r1\r4\r9\r16\r0\r1\r4\r9\r16\r0\r1\r4\r9\r16\r0\r1\r4\r9\r16\r0\r1\r4\r9\r16\r0\r1\r4\r9\r16\r0\r1\r4\r9\r16\r0\r1\r4\r9\r16\r0\r1\r4\r9\r16\r0\r1\r4\r9\r16\r0\r1\r4\r9\r16\r0\r1\r4\r9\r16\r0\r1\r4\r9\r16\r0\r1\r4\r9\r16\r0\r1\r4\r9\r16\r0\r1\r4\r9\r16\r0\r1\r4\r9\r16\r0\r1\r4\r9\r16\r0\r1\r4\r9\r16\r0\r1\r4\r9\r16\r0\r1\r4\r9\r16\r0\r1\r4\r9\r16\r0\r1\r4\r9\r16\r0\r1\r4\r9\r16\r0\r1\r4\r9\r16\r0\r1\r4\r9\r16\r0\r1\r4\r9\r16\r0\r1\r4\r9\r16\r0\r1\r4\r9\r16\r0\r1\r4\r9\r16\r0\r1\r4\r9\r16\r0\r1\r4\r9\r16\r0\r1\r4\r9\r16\r0\r1\r4\r9\r16\r0\r1\r4\r9\r16\r0\r1\r4\r9\r16\r0\r1\r4\r9\r16\r0\r1\r4\r9\r16\r0\r1\r4\r9\r16\r0\r1\r4\r9\r16\r0\r1\r4\r9\r16\r0\r1\r4\r9\r16\r0\r1\r4\r9\r16\r0\r1\r4\r9\r16\r0\r1\r4\r9\r16\r0\r1\r4\r9\r16\r0\r1\r4\r9\r16\r0\r1\r4\r9\r16\rThe slowest run took 4.46 times longer than the fastest. This could mean that an intermediate result is being cached.\n",
            "100 loops, best of 3: 103 µs per loop\n"
          ],
          "name": "stdout"
        }
      ]
    },
    {
      "cell_type": "code",
      "metadata": {
        "id": "vlUQ2TywL30k",
        "outputId": "2fccf53d-c2b9-41ad-9d37-b43eb002f2af",
        "colab": {
          "base_uri": "https://localhost:8080/",
          "height": 54
        }
      },
      "source": [
        "%%timeit -n100\n",
        "\n",
        "# A better way to manipulate a generator is with the library itertools\n",
        "b = generator(data)\n",
        "for x in itertools.islice(b, 5):\n",
        "  print(x, end='\\r')"
      ],
      "execution_count": 23,
      "outputs": [
        {
          "output_type": "stream",
          "text": [
            "100 loops, best of 3: 426 µs per loop\n"
          ],
          "name": "stdout"
        }
      ]
    },
    {
      "cell_type": "code",
      "metadata": {
        "id": "0kfZxmK1XCY0"
      },
      "source": [
        "# Like list comprehension, generator may be obtain in one line with ( ) instead of [ ]\n",
        "b = (x**2 for x in data)"
      ],
      "execution_count": 24,
      "outputs": []
    },
    {
      "cell_type": "markdown",
      "metadata": {
        "id": "ktnAunfbXhDB"
      },
      "source": [
        "# Exemple 5 - Advanced Concept"
      ]
    },
    {
      "cell_type": "code",
      "metadata": {
        "id": "3hoyhRGIUSIt"
      },
      "source": [
        "import string\n",
        "import random"
      ],
      "execution_count": 25,
      "outputs": []
    },
    {
      "cell_type": "code",
      "metadata": {
        "id": "0qUTJoTFYL2T",
        "outputId": "7766c455-0f31-49e1-d732-da5678aa896b",
        "colab": {
          "base_uri": "https://localhost:8080/",
          "height": 54
        }
      },
      "source": [
        "%%timeit -n10\n",
        "\n",
        "# Generate random letters, capitalize them, then add them to a list\n",
        "newlist = []\n",
        "for _ in range(100000):\n",
        "    newlist.append(random.choice(string.ascii_letters).upper())"
      ],
      "execution_count": 26,
      "outputs": [
        {
          "output_type": "stream",
          "text": [
            "10 loops, best of 3: 90.2 ms per loop\n"
          ],
          "name": "stdout"
        }
      ]
    },
    {
      "cell_type": "code",
      "metadata": {
        "id": "WqqLsyGyZBl2",
        "outputId": "beaf0e20-3f52-428b-882a-23e6976e261e",
        "colab": {
          "base_uri": "https://localhost:8080/",
          "height": 54
        }
      },
      "source": [
        "%%timeit -n10\n",
        "\n",
        "newlist = []\n",
        "\n",
        "# Redefined functions to remove the dot\n",
        "upper = str.upper\n",
        "choice = random.choice\n",
        "alph = string.ascii_letters \n",
        "append = newlist.append\n",
        "\n",
        "# For loop without dots\n",
        "for _ in range(100000):\n",
        "  append(upper(choice(alph)))"
      ],
      "execution_count": 27,
      "outputs": [
        {
          "output_type": "stream",
          "text": [
            "10 loops, best of 3: 75.9 ms per loop\n"
          ],
          "name": "stdout"
        }
      ]
    },
    {
      "cell_type": "code",
      "metadata": {
        "id": "U-Jxi7untjl7",
        "outputId": "ad42594d-9749-4dcf-bd4b-a0bfff666f15",
        "colab": {
          "base_uri": "https://localhost:8080/",
          "height": 54
        }
      },
      "source": [
        "%%timeit -n10\n",
        "\n",
        "# Local variables are less expensive that global ones\n",
        "def up():\n",
        "  newlist = []\n",
        "  upper = str.upper\n",
        "  choice = random.choice\n",
        "  alph = string.ascii_letters \n",
        "  append = newlist.append\n",
        "  for _ in range(100000):\n",
        "    append(upper(choice(alph)))\n",
        "  newlist = []\n",
        "\n",
        "newlist = up()"
      ],
      "execution_count": 36,
      "outputs": [
        {
          "output_type": "stream",
          "text": [
            "10 loops, best of 3: 75.2 ms per loop\n"
          ],
          "name": "stdout"
        }
      ]
    },
    {
      "cell_type": "code",
      "metadata": {
        "id": "iHaHi0TOfRQM",
        "outputId": "6fc1e749-af2e-4f79-ef67-fabfa19b92e6",
        "colab": {
          "base_uri": "https://localhost:8080/",
          "height": 54
        }
      },
      "source": [
        "%%timeit -n10\n",
        "\n",
        "def up():\n",
        "  upper = str.upper\n",
        "  choice = random.choice\n",
        "  alph = string.ascii_letters\n",
        "  return [upper(choice(alph)) for _ in range(100000)]\n",
        "\n",
        "newlist = up()"
      ],
      "execution_count": 29,
      "outputs": [
        {
          "output_type": "stream",
          "text": [
            "10 loops, best of 3: 75.1 ms per loop\n"
          ],
          "name": "stdout"
        }
      ]
    },
    {
      "cell_type": "code",
      "metadata": {
        "id": "SxaQyxbhYMaE",
        "outputId": "fab8ae62-09ac-45a0-ca2c-d4588bd4a896",
        "colab": {
          "base_uri": "https://localhost:8080/",
          "height": 54
        }
      },
      "source": [
        "# Sometimes, list comprehension are slower\n",
        "%timeit -n10 newlist = [random.choice(string.ascii_letters).upper() for _ in range(100000)]"
      ],
      "execution_count": 30,
      "outputs": [
        {
          "output_type": "stream",
          "text": [
            "10 loops, best of 3: 80.2 ms per loop\n"
          ],
          "name": "stdout"
        }
      ]
    },
    {
      "cell_type": "markdown",
      "metadata": {
        "id": "FH5kqpJQIx6r"
      },
      "source": [
        "# Exemple 6 - Numpy, In-Place, Contiguous"
      ]
    },
    {
      "cell_type": "code",
      "metadata": {
        "id": "xgoogNI0YMM0"
      },
      "source": [
        "import numpy as np"
      ],
      "execution_count": 31,
      "outputs": []
    },
    {
      "cell_type": "code",
      "metadata": {
        "id": "EvJWKb0-I-wT",
        "outputId": "25e20dd1-e7fc-4314-bfe5-f76e5e3d3077",
        "colab": {
          "base_uri": "https://localhost:8080/",
          "height": 54
        }
      },
      "source": [
        "%%timeit -n10\n",
        "\n",
        "# Create a new array in memory to store a + 2, even if it has the same name\n",
        "a = np.zeros(10000000)\n",
        "a = a + 2"
      ],
      "execution_count": 32,
      "outputs": [
        {
          "output_type": "stream",
          "text": [
            "10 loops, best of 3: 34.1 ms per loop\n"
          ],
          "name": "stdout"
        }
      ]
    },
    {
      "cell_type": "code",
      "metadata": {
        "id": "0nIvEWxnI-yd",
        "outputId": "ec19475d-fc13-4055-9bc7-c15a10ab2b6e",
        "colab": {
          "base_uri": "https://localhost:8080/",
          "height": 54
        }
      },
      "source": [
        "%%timeit -n10\n",
        "\n",
        "# In-place operation (modify the object in memory)\n",
        "a = np.zeros(10000000)\n",
        "a += 2"
      ],
      "execution_count": 33,
      "outputs": [
        {
          "output_type": "stream",
          "text": [
            "10 loops, best of 3: 23.9 ms per loop\n"
          ],
          "name": "stdout"
        }
      ]
    },
    {
      "cell_type": "code",
      "metadata": {
        "id": "BUxc-wJmI-rN",
        "outputId": "8098a1bb-c60f-4115-ca32-4942ed61f54a",
        "colab": {
          "base_uri": "https://localhost:8080/",
          "height": 54
        }
      },
      "source": [
        "%%timeit -n10\n",
        "\n",
        "# Matrix of size 10000 x 10000\n",
        "a = np.zeros((10000, 10000))\n",
        "# Reshape the matrix to be of size (1, 100 000 000)\n",
        "b = a.reshape((1, -1))"
      ],
      "execution_count": 34,
      "outputs": [
        {
          "output_type": "stream",
          "text": [
            "10 loops, best of 3: 182 ms per loop\n"
          ],
          "name": "stdout"
        }
      ]
    },
    {
      "cell_type": "code",
      "metadata": {
        "id": "-_Ayw24TJ4rE",
        "outputId": "ae65f540-0784-4841-e203-34e11a1ca321",
        "colab": {
          "base_uri": "https://localhost:8080/",
          "height": 54
        }
      },
      "source": [
        "%%timeit\n",
        "\n",
        "a = np.zeros((10000, 10000))\n",
        "# A is transposed, but remains the same in memory (not contiguous anymore)\n",
        "b = a.T.reshape((1, -1))"
      ],
      "execution_count": 35,
      "outputs": [
        {
          "output_type": "stream",
          "text": [
            "1 loop, best of 3: 3.12 s per loop\n"
          ],
          "name": "stdout"
        }
      ]
    }
  ]
}